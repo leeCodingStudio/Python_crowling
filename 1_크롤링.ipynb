{
  "nbformat": 4,
  "nbformat_minor": 0,
  "metadata": {
    "colab": {
      "provenance": [],
      "authorship_tag": "ABX9TyOE1x0ONtIDlZ+z9ILvP3Rd",
      "include_colab_link": true
    },
    "kernelspec": {
      "name": "python3",
      "display_name": "Python 3"
    },
    "language_info": {
      "name": "python"
    }
  },
  "cells": [
    {
      "cell_type": "markdown",
      "metadata": {
        "id": "view-in-github",
        "colab_type": "text"
      },
      "source": [
        "<a href=\"https://colab.research.google.com/github/leeCodingStudio/Python_crowling/blob/master/1_%ED%81%AC%EB%A1%A4%EB%A7%81.ipynb\" target=\"_parent\"><img src=\"https://colab.research.google.com/assets/colab-badge.svg\" alt=\"Open In Colab\"/></a>"
      ]
    },
    {
      "cell_type": "markdown",
      "source": [
        "* 크롤링(Crawling): 인터넷의 데이터를 활용하기 위해 정보들을 분석하고 활용할 수 있도록 수집하는 행위\n",
        "* 스크레이핑(Scraping): 크롤링 + 데이터를 추출해서 가공하는 최종 목표"
      ],
      "metadata": {
        "id": "HTq0FNdKTuDv"
      }
    },
    {
      "cell_type": "markdown",
      "source": [
        "# 1. Basic English Speaking"
      ],
      "metadata": {
        "id": "z5wfXW8TUAG2"
      }
    },
    {
      "cell_type": "code",
      "source": [
        "import requests\n",
        "from bs4 import BeautifulSoup"
      ],
      "metadata": {
        "id": "BwcKgvzkUcO7"
      },
      "execution_count": null,
      "outputs": []
    },
    {
      "cell_type": "code",
      "source": [
        "site = 'https://basicenglishspeaking.com/daily-english-conversation-topics/'\n",
        "request = requests.get(site)\n",
        "print(request)\n",
        "# print(request.text)"
      ],
      "metadata": {
        "colab": {
          "base_uri": "https://localhost:8080/"
        },
        "id": "tEwbUuHSUtKb",
        "outputId": "2064e2c3-6416-4415-f569-03530b88651a"
      },
      "execution_count": null,
      "outputs": [
        {
          "output_type": "stream",
          "name": "stdout",
          "text": [
            "<Response [200]>\n"
          ]
        }
      ]
    },
    {
      "cell_type": "code",
      "source": [
        "soup = BeautifulSoup(request.text)"
      ],
      "metadata": {
        "id": "NKOl3C9QVLKn"
      },
      "execution_count": null,
      "outputs": []
    },
    {
      "cell_type": "code",
      "source": [
        "divs = soup.find('div', {'class':'thrv-columns'})\n",
        "print(divs)"
      ],
      "metadata": {
        "colab": {
          "base_uri": "https://localhost:8080/"
        },
        "id": "johZOMN9VecI",
        "outputId": "d2f5ad10-b8ce-441d-f70b-e4805a66a1a1"
      },
      "execution_count": null,
      "outputs": [
        {
          "output_type": "stream",
          "name": "stdout",
          "text": [
            "<div class=\"thrv_wrapper thrv-columns\" style=\"--tcb-col-el-width:792;\"><div class=\"tcb-flex-row tcb--cols--3\"><div class=\"tcb-flex-col\"><div class=\"tcb-col\"><div class=\"thrv_wrapper thrv_text_element\"><p>1. <a class=\"tve-froala\" href=\"https://basicenglishspeaking.com/family/\" style=\"outline: none;\">Family</a><br/>2. <a class=\"tve-froala\" href=\"https://basicenglishspeaking.com/restaurant/\" style=\"outline: none;\">Restaurant</a><br/>3. <a href=\"https://basicenglishspeaking.com/books/\">Books</a><br/>4. <a href=\"https://basicenglishspeaking.com/travel/\">Travel</a><br/>5. <a href=\"https://basicenglishspeaking.com/website/\">Website</a><br/>6. <a href=\"https://basicenglishspeaking.com/accident/\">Accident</a><br/>7. <a class=\"tve-froala\" href=\"https://basicenglishspeaking.com/childhood-memory/\" style=\"outline: none;\">Childhood memory</a><br/>8. <a class=\"tve-froala\" href=\"https://basicenglishspeaking.com/favorite-rooms/\" style=\"outline: none;\">Favorite rooms</a><br/>9. <a href=\"https://basicenglishspeaking.com/presents/\">Presents</a><br/>10. <a class=\"tve-froala\" href=\"https://basicenglishspeaking.com/historical-place/\" style=\"outline: none;\">Historical place</a><br/>11. <a class=\"tve-froala\" href=\"https://basicenglishspeaking.com/newspaper-magazine/\" style=\"outline: none;\">Newspaper/ Magazine</a><br/>12. <a href=\"https://basicenglishspeaking.com/an-event/\">A memorable event</a><br/>13. <a href=\"https://basicenglishspeaking.com/a-subject/\">A favorite subject</a><br/>14. <a href=\"https://basicenglishspeaking.com/a-museum/\">A museum</a><br/>15. <a href=\"https://basicenglishspeaking.com/a-movie/\">A favorite movie</a><br/>16. <a href=\"https://basicenglishspeaking.com/a-foreign-country/\">A foreign country</a><br/>17. <a href=\"https://basicenglishspeaking.com/parties/\">Parties</a><br/>18. <a href=\"https://basicenglishspeaking.com/a-teacher/\">A teacher</a><br/>19. <a href=\"https://basicenglishspeaking.com/a-friend/\">A friend</a><br/>20. <a href=\"https://basicenglishspeaking.com/a-hotel/\">A hotel</a><br/>21. <a href=\"https://basicenglishspeaking.com/a-letter/\">A letter</a><br/>22. <a href=\"https://basicenglishspeaking.com/hobbies/\">Hobbies</a><br/>23. <a href=\"https://basicenglishspeaking.com/music/\">Music</a><br/>24. <a href=\"https://basicenglishspeaking.com/shopping/\">Shopping</a><br/>25. <a href=\"https://basicenglishspeaking.com/holiday/\">Holiday</a></p></div></div></div><div class=\"tcb-flex-col\"><div class=\"tcb-col\"><div class=\"thrv_wrapper thrv_text_element\"><p>26. <a class=\"tve-froala\" href=\"https://basicenglishspeaking.com/animals/\" style=\"outline: none;\">Animals</a><br/>27. <a class=\"tve-froala\" href=\"https://basicenglishspeaking.com/a-practical-skill/\" style=\"outline: none;\">A practical skill</a><br/>28. <a href=\"https://basicenglishspeaking.com/sports/\">Sport</a><br/>29. <a href=\"https://basicenglishspeaking.com/a-school/\">A School</a><br/>30. <a href=\"https://basicenglishspeaking.com/festival/\">Festival</a><br/>31. <a href=\"https://basicenglishspeaking.com/food/\">Food</a><br/>32. <a href=\"https://basicenglishspeaking.com/household-appliance/\">Household appliance</a><br/>33. <a href=\"https://basicenglishspeaking.com/a-music-band/\">A music band</a><br/>34. <a href=\"https://basicenglishspeaking.com/weather/\">Weather</a><br/>35. <a href=\"https://basicenglishspeaking.com/neighbor/\">Neighbor</a><br/>36. <a href=\"https://basicenglishspeaking.com/natural-scenery/\">Natural scenery</a><br/>37. <a href=\"https://basicenglishspeaking.com/outdoor-activities/\">Outdoor activities</a><br/>38. <a href=\"https://basicenglishspeaking.com/law/\">Law</a><br/>39. <a href=\"https://basicenglishspeaking.com/pollution/\">Pollution</a><br/>40. <a href=\"https://basicenglishspeaking.com/traffic-jam/\">Traffic jam</a><br/>41. <a href=\"https://basicenglishspeaking.com/tv-program/\">TV program</a><br/>42. <a href=\"https://basicenglishspeaking.com/architecture-building/\">Architect/ Building</a><br/>43. <a href=\"https://basicenglishspeaking.com/electronic-media/\">Electronic Media</a><br/>44. <a href=\"https://basicenglishspeaking.com/job-career/\">Job/ Career</a><br/>45. <a href=\"https://basicenglishspeaking.com/competition-contest/\">Competition/ contest</a><br/>46. <a href=\"https://basicenglishspeaking.com/a-garden/\">A garden</a><br/>47. <a href=\"https://basicenglishspeaking.com/hometown/\">Hometown</a><br/>48. <a href=\"https://basicenglishspeaking.com/clothing/\">Clothing</a><br/>49. <a href=\"https://basicenglishspeaking.com/an-advertisement/\">Advertisement</a><br/>50. <a href=\"https://basicenglishspeaking.com/a-project/\">A project</a></p></div></div></div><div class=\"tcb-flex-col\"><div class=\"tcb-col\"><div class=\"thrv_wrapper thrv_text_element\"><p>51. <a href=\"https://basicenglishspeaking.com/a-wedding/\">A wedding</a><br/>52. <a href=\"https://basicenglishspeaking.com/a-coffee-shop/\">A Coffee shop</a><br/>53. <a href=\"https://basicenglishspeaking.com/culture/\">Culture</a><br/>54. <a href=\"https://basicenglishspeaking.com/transport/\">Transport</a><br/>55. <a href=\"https://basicenglishspeaking.com/politician/\">Politician</a><br/>56. <a href=\"https://basicenglishspeaking.com/communication/\">Communication</a><br/>57. <a href=\"https://basicenglishspeaking.com/business/\">Business</a><br/>58. <a href=\"https://basicenglishspeaking.com/computer/\">Computer</a><br/>59. <a href=\"https://basicenglishspeaking.com/exercise/\">Exercise</a><br/>60. <a href=\"https://basicenglishspeaking.com/goal-ambition/\">Goal/ ambition</a><br/>61. <a href=\"https://basicenglishspeaking.com/art/\">Art</a><br/>62. <a href=\"https://basicenglishspeaking.com/fashion/\">Fashion</a><br/>63. <a href=\"https://basicenglishspeaking.com/jewelry/\">Jewelry</a><br/>64. <a href=\"https://basicenglishspeaking.com/cosmetic/\">Cosmetic</a><br/>65. <a href=\"https://basicenglishspeaking.com/indoor-game/\">Indoor Game</a><br/>66. <a href=\"https://basicenglishspeaking.com/phone-conversation/\">Phone conversation</a><br/>67. <a href=\"https://basicenglishspeaking.com/learning-second-language/\">Learning A Second language</a><br/>68. <a href=\"https://basicenglishspeaking.com/a-creative-person/\">A Creative Person</a><br/>69. <a href=\"https://basicenglishspeaking.com/a-celebrity/\">A celebrity</a><br/>70. <a href=\"https://basicenglishspeaking.com/a-health-problem/\">A Health Problem</a><br/>71. <a href=\"https://basicenglishspeaking.com/technological-advancements/\">Technological advancements</a><br/>72. <a href=\"https://basicenglishspeaking.com/a-landmark/\">A Landmark</a><br/>73. <a href=\"https://basicenglishspeaking.com/handcraft-items/\">Handcraft Items</a><br/>74. <a href=\"https://basicenglishspeaking.com/plastic-surgery/\">Plastic Surgery</a><br/>75. <a href=\"https://basicenglishspeaking.com/success/\">Success</a></p></div></div></div></div></div>\n"
          ]
        }
      ]
    },
    {
      "cell_type": "code",
      "source": [
        "links = divs.findAll('a')\n",
        "print(links)"
      ],
      "metadata": {
        "colab": {
          "base_uri": "https://localhost:8080/"
        },
        "id": "tOa5vuYgXNOX",
        "outputId": "7338a9ed-1faa-4ddf-9a07-b77c0199c980"
      },
      "execution_count": null,
      "outputs": [
        {
          "output_type": "stream",
          "name": "stdout",
          "text": [
            "[<a class=\"tve-froala\" href=\"https://basicenglishspeaking.com/family/\" style=\"outline: none;\">Family</a>, <a class=\"tve-froala\" href=\"https://basicenglishspeaking.com/restaurant/\" style=\"outline: none;\">Restaurant</a>, <a href=\"https://basicenglishspeaking.com/books/\">Books</a>, <a href=\"https://basicenglishspeaking.com/travel/\">Travel</a>, <a href=\"https://basicenglishspeaking.com/website/\">Website</a>, <a href=\"https://basicenglishspeaking.com/accident/\">Accident</a>, <a class=\"tve-froala\" href=\"https://basicenglishspeaking.com/childhood-memory/\" style=\"outline: none;\">Childhood memory</a>, <a class=\"tve-froala\" href=\"https://basicenglishspeaking.com/favorite-rooms/\" style=\"outline: none;\">Favorite rooms</a>, <a href=\"https://basicenglishspeaking.com/presents/\">Presents</a>, <a class=\"tve-froala\" href=\"https://basicenglishspeaking.com/historical-place/\" style=\"outline: none;\">Historical place</a>, <a class=\"tve-froala\" href=\"https://basicenglishspeaking.com/newspaper-magazine/\" style=\"outline: none;\">Newspaper/ Magazine</a>, <a href=\"https://basicenglishspeaking.com/an-event/\">A memorable event</a>, <a href=\"https://basicenglishspeaking.com/a-subject/\">A favorite subject</a>, <a href=\"https://basicenglishspeaking.com/a-museum/\">A museum</a>, <a href=\"https://basicenglishspeaking.com/a-movie/\">A favorite movie</a>, <a href=\"https://basicenglishspeaking.com/a-foreign-country/\">A foreign country</a>, <a href=\"https://basicenglishspeaking.com/parties/\">Parties</a>, <a href=\"https://basicenglishspeaking.com/a-teacher/\">A teacher</a>, <a href=\"https://basicenglishspeaking.com/a-friend/\">A friend</a>, <a href=\"https://basicenglishspeaking.com/a-hotel/\">A hotel</a>, <a href=\"https://basicenglishspeaking.com/a-letter/\">A letter</a>, <a href=\"https://basicenglishspeaking.com/hobbies/\">Hobbies</a>, <a href=\"https://basicenglishspeaking.com/music/\">Music</a>, <a href=\"https://basicenglishspeaking.com/shopping/\">Shopping</a>, <a href=\"https://basicenglishspeaking.com/holiday/\">Holiday</a>, <a class=\"tve-froala\" href=\"https://basicenglishspeaking.com/animals/\" style=\"outline: none;\">Animals</a>, <a class=\"tve-froala\" href=\"https://basicenglishspeaking.com/a-practical-skill/\" style=\"outline: none;\">A practical skill</a>, <a href=\"https://basicenglishspeaking.com/sports/\">Sport</a>, <a href=\"https://basicenglishspeaking.com/a-school/\">A School</a>, <a href=\"https://basicenglishspeaking.com/festival/\">Festival</a>, <a href=\"https://basicenglishspeaking.com/food/\">Food</a>, <a href=\"https://basicenglishspeaking.com/household-appliance/\">Household appliance</a>, <a href=\"https://basicenglishspeaking.com/a-music-band/\">A music band</a>, <a href=\"https://basicenglishspeaking.com/weather/\">Weather</a>, <a href=\"https://basicenglishspeaking.com/neighbor/\">Neighbor</a>, <a href=\"https://basicenglishspeaking.com/natural-scenery/\">Natural scenery</a>, <a href=\"https://basicenglishspeaking.com/outdoor-activities/\">Outdoor activities</a>, <a href=\"https://basicenglishspeaking.com/law/\">Law</a>, <a href=\"https://basicenglishspeaking.com/pollution/\">Pollution</a>, <a href=\"https://basicenglishspeaking.com/traffic-jam/\">Traffic jam</a>, <a href=\"https://basicenglishspeaking.com/tv-program/\">TV program</a>, <a href=\"https://basicenglishspeaking.com/architecture-building/\">Architect/ Building</a>, <a href=\"https://basicenglishspeaking.com/electronic-media/\">Electronic Media</a>, <a href=\"https://basicenglishspeaking.com/job-career/\">Job/ Career</a>, <a href=\"https://basicenglishspeaking.com/competition-contest/\">Competition/ contest</a>, <a href=\"https://basicenglishspeaking.com/a-garden/\">A garden</a>, <a href=\"https://basicenglishspeaking.com/hometown/\">Hometown</a>, <a href=\"https://basicenglishspeaking.com/clothing/\">Clothing</a>, <a href=\"https://basicenglishspeaking.com/an-advertisement/\">Advertisement</a>, <a href=\"https://basicenglishspeaking.com/a-project/\">A project</a>, <a href=\"https://basicenglishspeaking.com/a-wedding/\">A wedding</a>, <a href=\"https://basicenglishspeaking.com/a-coffee-shop/\">A Coffee shop</a>, <a href=\"https://basicenglishspeaking.com/culture/\">Culture</a>, <a href=\"https://basicenglishspeaking.com/transport/\">Transport</a>, <a href=\"https://basicenglishspeaking.com/politician/\">Politician</a>, <a href=\"https://basicenglishspeaking.com/communication/\">Communication</a>, <a href=\"https://basicenglishspeaking.com/business/\">Business</a>, <a href=\"https://basicenglishspeaking.com/computer/\">Computer</a>, <a href=\"https://basicenglishspeaking.com/exercise/\">Exercise</a>, <a href=\"https://basicenglishspeaking.com/goal-ambition/\">Goal/ ambition</a>, <a href=\"https://basicenglishspeaking.com/art/\">Art</a>, <a href=\"https://basicenglishspeaking.com/fashion/\">Fashion</a>, <a href=\"https://basicenglishspeaking.com/jewelry/\">Jewelry</a>, <a href=\"https://basicenglishspeaking.com/cosmetic/\">Cosmetic</a>, <a href=\"https://basicenglishspeaking.com/indoor-game/\">Indoor Game</a>, <a href=\"https://basicenglishspeaking.com/phone-conversation/\">Phone conversation</a>, <a href=\"https://basicenglishspeaking.com/learning-second-language/\">Learning A Second language</a>, <a href=\"https://basicenglishspeaking.com/a-creative-person/\">A Creative Person</a>, <a href=\"https://basicenglishspeaking.com/a-celebrity/\">A celebrity</a>, <a href=\"https://basicenglishspeaking.com/a-health-problem/\">A Health Problem</a>, <a href=\"https://basicenglishspeaking.com/technological-advancements/\">Technological advancements</a>, <a href=\"https://basicenglishspeaking.com/a-landmark/\">A Landmark</a>, <a href=\"https://basicenglishspeaking.com/handcraft-items/\">Handcraft Items</a>, <a href=\"https://basicenglishspeaking.com/plastic-surgery/\">Plastic Surgery</a>, <a href=\"https://basicenglishspeaking.com/success/\">Success</a>]\n"
          ]
        }
      ]
    },
    {
      "cell_type": "code",
      "source": [
        "for link in links:\n",
        "    print(link.text)"
      ],
      "metadata": {
        "colab": {
          "base_uri": "https://localhost:8080/"
        },
        "id": "y6xZERUxXqtE",
        "outputId": "b04fef06-92ae-409d-c953-0062d7dd6405"
      },
      "execution_count": null,
      "outputs": [
        {
          "output_type": "stream",
          "name": "stdout",
          "text": [
            "Family\n",
            "Restaurant\n",
            "Books\n",
            "Travel\n",
            "Website\n",
            "Accident\n",
            "Childhood memory\n",
            "Favorite rooms\n",
            "Presents\n",
            "Historical place\n",
            "Newspaper/ Magazine\n",
            "A memorable event\n",
            "A favorite subject\n",
            "A museum\n",
            "A favorite movie\n",
            "A foreign country\n",
            "Parties\n",
            "A teacher\n",
            "A friend\n",
            "A hotel\n",
            "A letter\n",
            "Hobbies\n",
            "Music\n",
            "Shopping\n",
            "Holiday\n",
            "Animals\n",
            "A practical skill\n",
            "Sport\n",
            "A School\n",
            "Festival\n",
            "Food\n",
            "Household appliance\n",
            "A music band\n",
            "Weather\n",
            "Neighbor\n",
            "Natural scenery\n",
            "Outdoor activities\n",
            "Law\n",
            "Pollution\n",
            "Traffic jam\n",
            "TV program\n",
            "Architect/ Building\n",
            "Electronic Media\n",
            "Job/ Career\n",
            "Competition/ contest\n",
            "A garden\n",
            "Hometown\n",
            "Clothing\n",
            "Advertisement\n",
            "A project\n",
            "A wedding\n",
            "A Coffee shop\n",
            "Culture\n",
            "Transport\n",
            "Politician\n",
            "Communication\n",
            "Business\n",
            "Computer\n",
            "Exercise\n",
            "Goal/ ambition\n",
            "Art\n",
            "Fashion\n",
            "Jewelry\n",
            "Cosmetic\n",
            "Indoor Game\n",
            "Phone conversation\n",
            "Learning A Second language\n",
            "A Creative Person\n",
            "A celebrity\n",
            "A Health Problem\n",
            "Technological advancements\n",
            "A Landmark\n",
            "Handcraft Items\n",
            "Plastic Surgery\n",
            "Success\n"
          ]
        }
      ]
    },
    {
      "cell_type": "code",
      "source": [
        "subject = []\n",
        "for link in links:\n",
        "    subject.append(link.text)"
      ],
      "metadata": {
        "id": "x7TaLqgHYFgQ"
      },
      "execution_count": null,
      "outputs": []
    },
    {
      "cell_type": "code",
      "source": [
        "len(subject)"
      ],
      "metadata": {
        "colab": {
          "base_uri": "https://localhost:8080/"
        },
        "id": "jDV6Lr1zYPDx",
        "outputId": "487ede5b-7993-4781-c280-62c655cf05ad"
      },
      "execution_count": null,
      "outputs": [
        {
          "output_type": "execute_result",
          "data": {
            "text/plain": [
              "75"
            ]
          },
          "metadata": {},
          "execution_count": 8
        }
      ]
    },
    {
      "cell_type": "code",
      "source": [
        "print('총', len(subject), '개의 주제를 찾았습니다')\n",
        "for i in range(len(subject)):\n",
        "    print('{0:2d}. {1:s}'.format(i+1, subject[i]))"
      ],
      "metadata": {
        "colab": {
          "base_uri": "https://localhost:8080/"
        },
        "id": "34iP214MYTNb",
        "outputId": "c9d7be99-41ec-4fb8-a0a9-b12faa0ec48c"
      },
      "execution_count": null,
      "outputs": [
        {
          "output_type": "stream",
          "name": "stdout",
          "text": [
            "총 75 개의 주제를 찾았습니다\n",
            " 1. Family\n",
            " 2. Restaurant\n",
            " 3. Books\n",
            " 4. Travel\n",
            " 5. Website\n",
            " 6. Accident\n",
            " 7. Childhood memory\n",
            " 8. Favorite rooms\n",
            " 9. Presents\n",
            "10. Historical place\n",
            "11. Newspaper/ Magazine\n",
            "12. A memorable event\n",
            "13. A favorite subject\n",
            "14. A museum\n",
            "15. A favorite movie\n",
            "16. A foreign country\n",
            "17. Parties\n",
            "18. A teacher\n",
            "19. A friend\n",
            "20. A hotel\n",
            "21. A letter\n",
            "22. Hobbies\n",
            "23. Music\n",
            "24. Shopping\n",
            "25. Holiday\n",
            "26. Animals\n",
            "27. A practical skill\n",
            "28. Sport\n",
            "29. A School\n",
            "30. Festival\n",
            "31. Food\n",
            "32. Household appliance\n",
            "33. A music band\n",
            "34. Weather\n",
            "35. Neighbor\n",
            "36. Natural scenery\n",
            "37. Outdoor activities\n",
            "38. Law\n",
            "39. Pollution\n",
            "40. Traffic jam\n",
            "41. TV program\n",
            "42. Architect/ Building\n",
            "43. Electronic Media\n",
            "44. Job/ Career\n",
            "45. Competition/ contest\n",
            "46. A garden\n",
            "47. Hometown\n",
            "48. Clothing\n",
            "49. Advertisement\n",
            "50. A project\n",
            "51. A wedding\n",
            "52. A Coffee shop\n",
            "53. Culture\n",
            "54. Transport\n",
            "55. Politician\n",
            "56. Communication\n",
            "57. Business\n",
            "58. Computer\n",
            "59. Exercise\n",
            "60. Goal/ ambition\n",
            "61. Art\n",
            "62. Fashion\n",
            "63. Jewelry\n",
            "64. Cosmetic\n",
            "65. Indoor Game\n",
            "66. Phone conversation\n",
            "67. Learning A Second language\n",
            "68. A Creative Person\n",
            "69. A celebrity\n",
            "70. A Health Problem\n",
            "71. Technological advancements\n",
            "72. A Landmark\n",
            "73. Handcraft Items\n",
            "74. Plastic Surgery\n",
            "75. Success\n"
          ]
        }
      ]
    },
    {
      "cell_type": "markdown",
      "source": [
        "# 2. 다음 뉴스기사"
      ],
      "metadata": {
        "id": "OYqzOZc6Yl0s"
      }
    },
    {
      "cell_type": "code",
      "source": [
        "# https://v.daum.net/v/20230601081058509\n",
        "# https://v.daum.net/v/20230601072518640\n",
        "\n",
        "def daum_news_title(new_id):\n",
        "    url = 'https://v.daum.net/v/{}'.format(new_id)\n",
        "    request = requests.get(url)\n",
        "    soup = BeautifulSoup(request.text)\n",
        "    title = soup.find('h3', {'class':'tit_view'})\n",
        "    if title:\n",
        "        return title.text.strip()\n",
        "    return '제목없음'"
      ],
      "metadata": {
        "id": "PQeScEEaaSwa"
      },
      "execution_count": null,
      "outputs": []
    },
    {
      "cell_type": "code",
      "source": [
        "daum_news_title('20230601081058509')"
      ],
      "metadata": {
        "colab": {
          "base_uri": "https://localhost:8080/",
          "height": 35
        },
        "id": "TI-1NaWmbY8V",
        "outputId": "713c78a4-bbd2-48bc-d307-fdcffbc56c97"
      },
      "execution_count": null,
      "outputs": [
        {
          "output_type": "execute_result",
          "data": {
            "text/plain": [
              "'\"배달비 비싸져서 안 써요\" 줄줄이 떠나자…이젠 인하 전쟁'"
            ],
            "application/vnd.google.colaboratory.intrinsic+json": {
              "type": "string"
            }
          },
          "metadata": {},
          "execution_count": 11
        }
      ]
    },
    {
      "cell_type": "code",
      "source": [
        "daum_news_title('20230601072518640')"
      ],
      "metadata": {
        "colab": {
          "base_uri": "https://localhost:8080/",
          "height": 35
        },
        "id": "JHpGUtpGbeaQ",
        "outputId": "6fc56cad-79fc-4900-c60b-e55c150a07af"
      },
      "execution_count": null,
      "outputs": [
        {
          "output_type": "execute_result",
          "data": {
            "text/plain": [
              "\"'범죄도시3' 개봉 첫날 74만 동원 1위..122만으로 시작 '압도적 흥행'\""
            ],
            "application/vnd.google.colaboratory.intrinsic+json": {
              "type": "string"
            }
          },
          "metadata": {},
          "execution_count": 12
        }
      ]
    },
    {
      "cell_type": "markdown",
      "source": [
        "# 3. 벅스 뮤직 차트\n",
        "* https://music.bugs.co.kr/chart"
      ],
      "metadata": {
        "id": "AiRgBqKGbgk_"
      }
    },
    {
      "cell_type": "code",
      "source": [
        "request = requests.get('https://music.bugs.co.kr/chart')\n",
        "soup = BeautifulSoup(request.text)"
      ],
      "metadata": {
        "id": "MuK6aTCGb8V2"
      },
      "execution_count": null,
      "outputs": []
    },
    {
      "cell_type": "code",
      "source": [
        "titles = soup.findAll('p', {'class':'title'})\n",
        "# print(titles)\n",
        "artists = soup.findAll('p', {'class':'artist'})\n",
        "# print(artists)"
      ],
      "metadata": {
        "id": "7UeRMeDIf9JT"
      },
      "execution_count": null,
      "outputs": []
    },
    {
      "cell_type": "code",
      "source": [
        "for i in range(len(titles)):\n",
        "    title = titles[i].text.strip()\n",
        "    artist = artists[i].text.strip().split('\\n')[0]\n",
        "    print('{0:3d}위 {1} - {2}'.format(i+1, artist, title))"
      ],
      "metadata": {
        "colab": {
          "base_uri": "https://localhost:8080/"
        },
        "id": "BnxPVJ8MgFt6",
        "outputId": "ab35bcd0-8a40-4690-a764-6878030e86ad"
      },
      "execution_count": null,
      "outputs": [
        {
          "output_type": "stream",
          "name": "stdout",
          "text": [
            "  1위 (여자)아이들 - 퀸카 (Queencard)\n",
            "  2위 aespa - Spicy\n",
            "  3위 IVE (아이브) - I AM\n",
            "  4위 LE SSERAFIM (르세라핌) - UNFORGIVEN (feat. Nile Rodgers)\n",
            "  5위 IVE (아이브) - Kitsch\n",
            "  6위 FIFTY FIFTY - Cupid\n",
            "  7위 세븐틴(SEVENTEEN) - 손오공\n",
            "  8위 LE SSERAFIM (르세라핌) - 이브, 프시케 그리고 푸른 수염의 아내\n",
            "  9위 NewJeans - Hype Boy\n",
            " 10위 NewJeans - Ditto\n",
            " 11위 지수(JISOO) - 꽃\n",
            " 12위 aespa - Thirsty\n",
            " 13위 이채연 - KNOCK\n",
            " 14위 NewJeans - Attention\n",
            " 15위 NewJeans - OMG\n",
            " 16위 Charlie Puth(찰리 푸스) - Dangerously\n",
            " 17위 STAYC(스테이씨) - Teddy Bear\n",
            " 18위 IVE (아이브) - After LIKE\n",
            " 19위 Charlie Puth(찰리 푸스) - I Don’t Think That I Like Her\n",
            " 20위 IVE (아이브) - LOVE DIVE\n",
            " 21위 H1-KEY (하이키) - 건물 사이에 피어난 장미 (Rose Blossom)\n",
            " 22위 (여자)아이들 - Allergy\n",
            " 23위 LE SSERAFIM (르세라핌) - ANTIFRAGILE\n",
            " 24위 윤하(Younha/ユンナ) - 사건의 지평선\n",
            " 25위 DK(디셈버) - 심(心)\n",
            " 26위 던 (DAWN) - 빛이 나는 너에게\n",
            " 27위 박재정 - 헤어지자 말해요\n",
            " 28위 LE SSERAFIM (르세라핌) - FEARLESS\n",
            " 29위 멜로망스(MeloMance) - 사랑인가 봐\n",
            " 30위 허각 - 물론\n",
            " 31위 Christopher(크리스토퍼) - When I Get Old\n",
            " 32위 DAY6 (데이식스) - 한 페이지가 될 수 있게\n",
            " 33위 부석순(SEVENTEEN) - 파이팅 해야지 (Feat. 이영지)\n",
            " 34위 Charlie Puth(찰리 푸스) - That’s Not How This Works (feat. Dan + Shay)\n",
            " 35위 aespa - Salty & Sweet\n",
            " 36위 NMIXX - Love Me Like This\n",
            " 37위 BLACKPINK - Shut Down\n",
            " 38위 (여자)아이들 - TOMBOY\n",
            " 39위 IVE (아이브) - ELEVEN\n",
            " 40위 윤하(Younha/ユンナ) - 오르트구름\n",
            " 41위 지올팍(Zior Park) - CHRISTIAN\n",
            " 42위 임재현 - Heaven(2023)\n",
            " 43위 BLACKPINK - Pink Venom\n",
            " 44위 FIFTY FIFTY - Cupid (Twin Ver.)\n",
            " 45위 (여자)아이들 - Nxde\n",
            " 46위 NCT DREAM - Candy\n",
            " 47위 볼빨간사춘기 - FRIEND THE END\n",
            " 48위 The Kid LAROI - STAY\n",
            " 49위 박재범 - Candy (Feat. Zion.T)\n",
            " 50위 비투비 - 나의 바람 (Wind And Wish)\n",
            " 51위 성시경 - 너의 모든 순간\n",
            " 52위 멜로망스(MeloMance) - 찬란한 하루\n",
            " 53위 10CM - 그라데이션\n",
            " 54위 이무진 - 잠깐 시간 될까\n",
            " 55위 STAYC(스테이씨) - Poppy (Korean Ver.)\n",
            " 56위 경서예지 - 다정히 내 이름을 부르면\n",
            " 57위 BIG Naughty (서동현) - 정이라고 하자 (Feat. 10CM)\n",
            " 58위 임영웅 - 사랑은 늘 도망가\n",
            " 59위 Charlie Puth(찰리 푸스) - That's Hilarious\n",
            " 60위 aespa - 도깨비불 (Illusion)\n",
            " 61위 경서 - 나의 X에게\n",
            " 62위 폴킴(Paul Kim) - 모든 날, 모든 순간 (Every day, Every Moment)\n",
            " 63위 김민석 (멜로망스) - 취중고백\n",
            " 64위 #안녕 - 해요 (2022)\n",
            " 65위 잔나비 - 주저하는 연인들을 위해\n",
            " 66위 태연 (TAEYEON) - INVU\n",
            " 67위 폴킴(Paul Kim) - 한강에서 (Feat. BIG Naughty)\n",
            " 68위 NewJeans - Cookie\n",
            " 69위 Justin Bieber(저스틴 비버) - Off My Face\n",
            " 70위 테이(Tei) - Monologue\n",
            " 71위 태양 - VIBE (feat. Jimin of BTS)\n",
            " 72위 Sam Smith(샘 스미스) - Unholy\n",
            " 73위 NCT 도재정 - Perfume\n",
            " 74위 WSG워너비 (가야G) - 그때 그 순간 그대로 (그그그)\n",
            " 75위 Red Velvet (레드벨벳) - Feel My Rhythm\n",
            " 76위 10CM - 부동의 첫사랑\n",
            " 77위 아이유(IU) - 드라마\n",
            " 78위 방탄소년단 - Dynamite\n",
            " 79위 지아(Zia) - 사랑..그게 뭔데\n",
            " 80위 주호 - 내가 아니라도\n",
            " 81위 우디(Woody) - Say I Love You\n",
            " 82위 BIGBANG (빅뱅) - 봄여름가을겨울 (Still Life)\n",
            " 83위 BE'O (비오) - LOVE me\n",
            " 84위 아이유(IU) - strawberry moon\n",
            " 85위 지코 (ZICO) - 새삥 (Prod. ZICO) (Feat. 호미들)\n",
            " 86위 aespa - I'm Unhappy\n",
            " 87위 Crush - Rush Hour (Feat. j-hope of BTS)\n",
            " 88위 10CM - 딱 10CM만\n",
            " 89위 카라(Kara) - WHEN I MOVE\n",
            " 90위 이영지 - NOT SORRY (Feat. pH-1) (Prod. by Slom)\n",
            " 91위 우디(Woody) - Nostalgia\n",
            " 92위 태양 - 나의 마음에 (Seed)\n",
            " 93위 볼빨간사춘기 - Love story\n",
            " 94위 CIX (씨아이엑스) - Save me, Kill me\n",
            " 95위 Charlie Puth(찰리 푸스) - Left and Right (Feat. Jung Kook of BTS)\n",
            " 96위 aespa - Welcome To MY World (Feat. nævis)\n",
            " 97위 CIX (씨아이엑스) - Color\n",
            " 98위 주주 시크릿 - 밤이 무서워요 (Lonely Night)\n",
            " 99위 BE'O (비오) - 자격지심 (Feat. ZICO)\n",
            "100위 CIX (씨아이엑스) - Curtain Call\n"
          ]
        }
      ]
    },
    {
      "cell_type": "code",
      "source": [
        "for i, (t, a) in enumerate(zip(titles, artists)):\n",
        "    title = t.text.strip()\n",
        "    artist = a.text.strip().split('\\n')[0]\n",
        "    print('{0:3d}위 {1} - {2}'.format(i+1, artist, title))"
      ],
      "metadata": {
        "colab": {
          "base_uri": "https://localhost:8080/"
        },
        "id": "wAHrRF_bhDnt",
        "outputId": "888b3320-fa74-4fc1-9d63-7f58bef375a3"
      },
      "execution_count": null,
      "outputs": [
        {
          "output_type": "stream",
          "name": "stdout",
          "text": [
            "  1위 (여자)아이들 - 퀸카 (Queencard)\n",
            "  2위 aespa - Spicy\n",
            "  3위 IVE (아이브) - I AM\n",
            "  4위 LE SSERAFIM (르세라핌) - UNFORGIVEN (feat. Nile Rodgers)\n",
            "  5위 IVE (아이브) - Kitsch\n",
            "  6위 FIFTY FIFTY - Cupid\n",
            "  7위 세븐틴(SEVENTEEN) - 손오공\n",
            "  8위 LE SSERAFIM (르세라핌) - 이브, 프시케 그리고 푸른 수염의 아내\n",
            "  9위 NewJeans - Hype Boy\n",
            " 10위 NewJeans - Ditto\n",
            " 11위 지수(JISOO) - 꽃\n",
            " 12위 aespa - Thirsty\n",
            " 13위 이채연 - KNOCK\n",
            " 14위 NewJeans - Attention\n",
            " 15위 NewJeans - OMG\n",
            " 16위 Charlie Puth(찰리 푸스) - Dangerously\n",
            " 17위 STAYC(스테이씨) - Teddy Bear\n",
            " 18위 IVE (아이브) - After LIKE\n",
            " 19위 Charlie Puth(찰리 푸스) - I Don’t Think That I Like Her\n",
            " 20위 IVE (아이브) - LOVE DIVE\n",
            " 21위 H1-KEY (하이키) - 건물 사이에 피어난 장미 (Rose Blossom)\n",
            " 22위 (여자)아이들 - Allergy\n",
            " 23위 LE SSERAFIM (르세라핌) - ANTIFRAGILE\n",
            " 24위 윤하(Younha/ユンナ) - 사건의 지평선\n",
            " 25위 DK(디셈버) - 심(心)\n",
            " 26위 던 (DAWN) - 빛이 나는 너에게\n",
            " 27위 박재정 - 헤어지자 말해요\n",
            " 28위 LE SSERAFIM (르세라핌) - FEARLESS\n",
            " 29위 멜로망스(MeloMance) - 사랑인가 봐\n",
            " 30위 허각 - 물론\n",
            " 31위 Christopher(크리스토퍼) - When I Get Old\n",
            " 32위 DAY6 (데이식스) - 한 페이지가 될 수 있게\n",
            " 33위 부석순(SEVENTEEN) - 파이팅 해야지 (Feat. 이영지)\n",
            " 34위 Charlie Puth(찰리 푸스) - That’s Not How This Works (feat. Dan + Shay)\n",
            " 35위 aespa - Salty & Sweet\n",
            " 36위 NMIXX - Love Me Like This\n",
            " 37위 BLACKPINK - Shut Down\n",
            " 38위 (여자)아이들 - TOMBOY\n",
            " 39위 IVE (아이브) - ELEVEN\n",
            " 40위 윤하(Younha/ユンナ) - 오르트구름\n",
            " 41위 지올팍(Zior Park) - CHRISTIAN\n",
            " 42위 임재현 - Heaven(2023)\n",
            " 43위 BLACKPINK - Pink Venom\n",
            " 44위 FIFTY FIFTY - Cupid (Twin Ver.)\n",
            " 45위 (여자)아이들 - Nxde\n",
            " 46위 NCT DREAM - Candy\n",
            " 47위 볼빨간사춘기 - FRIEND THE END\n",
            " 48위 The Kid LAROI - STAY\n",
            " 49위 박재범 - Candy (Feat. Zion.T)\n",
            " 50위 비투비 - 나의 바람 (Wind And Wish)\n",
            " 51위 성시경 - 너의 모든 순간\n",
            " 52위 멜로망스(MeloMance) - 찬란한 하루\n",
            " 53위 10CM - 그라데이션\n",
            " 54위 이무진 - 잠깐 시간 될까\n",
            " 55위 STAYC(스테이씨) - Poppy (Korean Ver.)\n",
            " 56위 경서예지 - 다정히 내 이름을 부르면\n",
            " 57위 BIG Naughty (서동현) - 정이라고 하자 (Feat. 10CM)\n",
            " 58위 임영웅 - 사랑은 늘 도망가\n",
            " 59위 Charlie Puth(찰리 푸스) - That's Hilarious\n",
            " 60위 aespa - 도깨비불 (Illusion)\n",
            " 61위 경서 - 나의 X에게\n",
            " 62위 폴킴(Paul Kim) - 모든 날, 모든 순간 (Every day, Every Moment)\n",
            " 63위 김민석 (멜로망스) - 취중고백\n",
            " 64위 #안녕 - 해요 (2022)\n",
            " 65위 잔나비 - 주저하는 연인들을 위해\n",
            " 66위 태연 (TAEYEON) - INVU\n",
            " 67위 폴킴(Paul Kim) - 한강에서 (Feat. BIG Naughty)\n",
            " 68위 NewJeans - Cookie\n",
            " 69위 Justin Bieber(저스틴 비버) - Off My Face\n",
            " 70위 테이(Tei) - Monologue\n",
            " 71위 태양 - VIBE (feat. Jimin of BTS)\n",
            " 72위 Sam Smith(샘 스미스) - Unholy\n",
            " 73위 NCT 도재정 - Perfume\n",
            " 74위 WSG워너비 (가야G) - 그때 그 순간 그대로 (그그그)\n",
            " 75위 Red Velvet (레드벨벳) - Feel My Rhythm\n",
            " 76위 10CM - 부동의 첫사랑\n",
            " 77위 아이유(IU) - 드라마\n",
            " 78위 방탄소년단 - Dynamite\n",
            " 79위 지아(Zia) - 사랑..그게 뭔데\n",
            " 80위 주호 - 내가 아니라도\n",
            " 81위 우디(Woody) - Say I Love You\n",
            " 82위 BIGBANG (빅뱅) - 봄여름가을겨울 (Still Life)\n",
            " 83위 BE'O (비오) - LOVE me\n",
            " 84위 아이유(IU) - strawberry moon\n",
            " 85위 지코 (ZICO) - 새삥 (Prod. ZICO) (Feat. 호미들)\n",
            " 86위 aespa - I'm Unhappy\n",
            " 87위 Crush - Rush Hour (Feat. j-hope of BTS)\n",
            " 88위 10CM - 딱 10CM만\n",
            " 89위 카라(Kara) - WHEN I MOVE\n",
            " 90위 이영지 - NOT SORRY (Feat. pH-1) (Prod. by Slom)\n",
            " 91위 우디(Woody) - Nostalgia\n",
            " 92위 태양 - 나의 마음에 (Seed)\n",
            " 93위 볼빨간사춘기 - Love story\n",
            " 94위 CIX (씨아이엑스) - Save me, Kill me\n",
            " 95위 Charlie Puth(찰리 푸스) - Left and Right (Feat. Jung Kook of BTS)\n",
            " 96위 aespa - Welcome To MY World (Feat. nævis)\n",
            " 97위 CIX (씨아이엑스) - Color\n",
            " 98위 주주 시크릿 - 밤이 무서워요 (Lonely Night)\n",
            " 99위 BE'O (비오) - 자격지심 (Feat. ZICO)\n",
            "100위 CIX (씨아이엑스) - Curtain Call\n"
          ]
        }
      ]
    },
    {
      "cell_type": "markdown",
      "source": [
        "# 4. 멜론 차트\n",
        "* https://www.melon.com/chart/index.htm\n",
        "* robots.txt: 웹 사이트에 크롤러같은 로봇들의 접근을 제어하기 위한 규약. 권고안이라 꼭 지킬 의무는 없음"
      ],
      "metadata": {
        "id": "0uYp5EJKkwxc"
      }
    },
    {
      "cell_type": "code",
      "source": [
        "request = requests.get('https://www.melon.com/chart/index.htm')\n",
        "print(request) # <Response [406]>"
      ],
      "metadata": {
        "colab": {
          "base_uri": "https://localhost:8080/"
        },
        "id": "Cp-XkjAVmWSg",
        "outputId": "b5bee3fc-331f-4f81-bc31-7cf0da9daf3f"
      },
      "execution_count": null,
      "outputs": [
        {
          "output_type": "stream",
          "name": "stdout",
          "text": [
            "<Response [406]>\n"
          ]
        }
      ]
    },
    {
      "cell_type": "code",
      "source": [
        "# User-Agent:\n",
        "# Mozilla/5.0 (Windows NT 10.0; Win64; x64) AppleWebKit/537.36 (KHTML, like Gecko) Chrome/113.0.0.0 Safari/537.36\n",
        "header = {'User-Agent':'Mozilla/5.0 (Windows NT 10.0; Win64; x64)'}\n",
        "request = requests.get('https://www.melon.com/chart/index.htm', headers=header)\n",
        "print(request)"
      ],
      "metadata": {
        "colab": {
          "base_uri": "https://localhost:8080/"
        },
        "id": "kqsiXB3GmgU_",
        "outputId": "f927a0dc-7a88-4c57-92b6-8029030114bb"
      },
      "execution_count": null,
      "outputs": [
        {
          "output_type": "stream",
          "name": "stdout",
          "text": [
            "<Response [200]>\n"
          ]
        }
      ]
    },
    {
      "cell_type": "code",
      "source": [
        "soup = BeautifulSoup(request.text)\n",
        "titles = soup.findAll('div', {'class':'ellipsis rank01'})\n",
        "artists = soup.findAll('div', {'class':'ellipsis rank02'})"
      ],
      "metadata": {
        "id": "ugVJWxJ8n7Ja"
      },
      "execution_count": null,
      "outputs": []
    },
    {
      "cell_type": "code",
      "source": [
        "for i, (t, a) in enumerate(zip(titles, artists)):\n",
        "    title = t.text.strip()\n",
        "    artist = a.text.strip()\n",
        "    print('{0:3d}위 {1} - {2}'.format(i+1, artist, title))"
      ],
      "metadata": {
        "colab": {
          "base_uri": "https://localhost:8080/"
        },
        "id": "HpPIIS-zoL7i",
        "outputId": "a9eea4a2-c7c5-48a1-a089-ca2b362cada4"
      },
      "execution_count": null,
      "outputs": [
        {
          "output_type": "stream",
          "name": "stdout",
          "text": [
            "  1위 (여자)아이들(여자)아이들 - 퀸카 (Queencard)\n",
            "  2위 aespaaespa - Spicy\n",
            "  3위 IVE (아이브)IVE (아이브) - I AM\n",
            "  4위 LE SSERAFIM (르세라핌)LE SSERAFIM (르세라핌) - UNFORGIVEN (feat. Nile Rodgers)\n",
            "  5위 IVE (아이브)IVE (아이브) - Kitsch\n",
            "  6위 세븐틴 (SEVENTEEN)세븐틴 (SEVENTEEN) - 손오공\n",
            "  7위 지수 (JISOO)지수 (JISOO) - 꽃\n",
            "  8위 임영웅임영웅 - 사랑은 늘 도망가\n",
            "  9위 NewJeansNewJeans - Hype boy\n",
            " 10위 NewJeansNewJeans - Ditto\n",
            " 11위 임영웅임영웅 - 우리들의 블루스\n",
            " 12위 FIFTY FIFTYFIFTY FIFTY - Cupid\n",
            " 13위 허각허각 - 물론\n",
            " 14위 (여자)아이들(여자)아이들 - Allergy\n",
            " 15위 임영웅임영웅 - 다시 만날 수 있을까\n",
            " 16위 임영웅임영웅 - London Boy\n",
            " 17위 부석순 (SEVENTEEN)부석순 (SEVENTEEN) - 파이팅 해야지 (Feat. 이영지)\n",
            " 18위 박재정박재정 - 헤어지자 말해요\n",
            " 19위 지아지아 - 사랑..그게 뭔데\n",
            " 20위 임영웅임영웅 - Polaroid\n",
            " 21위 NewJeansNewJeans - OMG\n",
            " 22위 임영웅임영웅 - 무지개\n",
            " 23위 임영웅임영웅 - 이제 나만 믿어요\n",
            " 24위 윤하 (YOUNHA)윤하 (YOUNHA) - 사건의 지평선\n",
            " 25위 임영웅임영웅 - 아버지\n",
            " 26위 STAYC(스테이씨)STAYC(스테이씨) - Teddy Bear\n",
            " 27위 LE SSERAFIM (르세라핌)LE SSERAFIM (르세라핌) - 이브, 프시케 그리고 푸른 수염의 아내\n",
            " 28위 Charlie PuthCharlie Puth - Dangerously\n",
            " 29위 DK(디셈버)DK(디셈버) - 심(心)\n",
            " 30위 Charlie PuthCharlie Puth - I Don't Think That I Like Her\n",
            " 31위 임영웅임영웅 - A bientot\n",
            " 32위 이무진이무진 - 잠깐 시간 될까\n",
            " 33위 aespaaespa - Thirsty\n",
            " 34위 임영웅임영웅 - 인생찬가\n",
            " 35위 임영웅임영웅 - 손이 참 곱던 그대\n",
            " 36위 IVE (아이브)IVE (아이브) - After LIKE\n",
            " 37위 임영웅임영웅 - 사랑해 진짜\n",
            " 38위 임영웅임영웅 - 연애편지\n",
            " 39위 임재현임재현 - Heaven(2023)\n",
            " 40위 IVE (아이브)IVE (아이브) - LOVE DIVE\n",
            " 41위 NewJeansNewJeans - Attention\n",
            " 42위 LE SSERAFIM (르세라핌)LE SSERAFIM (르세라핌) - ANTIFRAGILE\n",
            " 43위 임영웅임영웅 - 보금자리\n",
            " 44위 imaseimase - NIGHT DANCER\n",
            " 45위 비투비비투비 - 나의 바람 (Wind And Wish)\n",
            " 46위 Agust DAgust D - 사람 Pt.2 (feat. 아이유)\n",
            " 47위 던 (DAWN)던 (DAWN) - 빛이 나는 너에게\n",
            " 48위 지민지민 - Like Crazy\n",
            " 49위 10CM10CM - 부동의 첫사랑\n",
            " 50위 방탄소년단방탄소년단 - Dynamite\n",
            " 51위 V.O.SV.O.S - 안녕이라고 말하지마\n",
            " 52위 멜로망스멜로망스 - 사랑인가 봐\n",
            " 53위 Zior ParkZior Park - CHRISTIAN\n",
            " 54위 볼빨간사춘기볼빨간사춘기 - FRIEND THE END\n",
            " 55위 방탄소년단방탄소년단 - The Planet\n",
            " 56위 이채연이채연 - KNOCK\n",
            " 57위 방탄소년단방탄소년단 - 봄날\n",
            " 58위 성시경성시경 - 너의 모든 순간\n",
            " 59위 aespaaespa - Salty & Sweet\n",
            " 60위 NMIXXNMIXX - Love Me Like This\n",
            " 61위 멜로망스멜로망스 - 찬란한 하루\n",
            " 62위 방탄소년단방탄소년단 - Butter\n",
            " 63위 지아지아 - 사랑하기 싫어\n",
            " 64위 (여자)아이들(여자)아이들 - Nxde\n",
            " 65위 H1-KEY (하이키)H1-KEY (하이키) - 건물 사이에 피어난 장미 (Rose Blossom)\n",
            " 66위 지민지민 - Angel Pt. 1 (Feat. Kodak Black, NLE Choppa, JVKE, Muni Long)\n",
            " 67위 임한별임한별 - 사랑하지 않아서 그랬어\n",
            " 68위 (여자)아이들(여자)아이들 - TOMBOY\n",
            " 69위 이홍기 (FT아일랜드)이홍기 (FT아일랜드) - 한사람만 (2023) (여름날 우리 X 이홍기 (FT아일랜드))\n",
            " 70위 방탄소년단방탄소년단 - Permission to Dance\n",
            " 71위 Charlie PuthCharlie Puth - That's Hilarious\n",
            " 72위 #안녕#안녕 - 해요 (2022)\n",
            " 73위 폴킴폴킴 - 한강에서 (Feat. BIG Naughty)\n",
            " 74위 테이테이 - Monologue\n",
            " 75위 NCT DREAMNCT DREAM - Candy\n",
            " 76위 10CM10CM - 그라데이션\n",
            " 77위 김민석 (멜로망스)김민석 (멜로망스) - 취중고백\n",
            " 78위 The Kid LAROI, Justin BieberThe Kid LAROI, Justin Bieber - STAY\n",
            " 79위 세븐틴 (SEVENTEEN)세븐틴 (SEVENTEEN) - F*ck My Life\n",
            " 80위 규현 (KYUHYUN), 정은지규현 (KYUHYUN), 정은지 - 우리 사랑 이대로 (여름날 우리 X 규현 (KYUHYUN), 정은지)\n",
            " 81위 j-hope, J. Colej-hope, J. Cole - on the street (with J. Cole)\n",
            " 82위 김호중김호중 - 그중에 그대를 만나\n",
            " 83위 정국, 방탄소년단정국, 방탄소년단 - Dreamers [Music from the FIFA World Cup Qatar 2022 Official Soundtrack] (Feat. FIFA Sound)\n",
            " 84위 LE SSERAFIM (르세라핌)LE SSERAFIM (르세라핌) - FEARLESS\n",
            " 85위 BLACKPINKBLACKPINK - Shut Down\n",
            " 86위 우디 (Woody)우디 (Woody) - Say I Love You\n",
            " 87위 BIG Naughty (서동현)BIG Naughty (서동현) - 정이라고 하자 (Feat. 10CM)\n",
            " 88위 IVE (아이브)IVE (아이브) - ELEVEN\n",
            " 89위 우디 (Woody)우디 (Woody) - Nostalgia\n",
            " 90위 경서예지, 전건호경서예지, 전건호 - 다정히 내 이름을 부르면\n",
            " 91위 주호주호 - 내가 아니라도\n",
            " 92위 DK(디셈버)DK(디셈버) - 발걸음\n",
            " 93위 BLACKPINKBLACKPINK - Pink Venom\n",
            " 94위 Charlie PuthCharlie Puth - That’s Not How This Works (feat. Dan + Shay)\n",
            " 95위 지코 (ZICO)지코 (ZICO) - 새삥 (Prod. ZICO) (Feat. 호미들)\n",
            " 96위 태양태양 - VIBE (feat. Jimin of BTS)\n",
            " 97위 경서경서 - 첫 키스에 내 심장은 120BPM\n",
            " 98위 WSG워너비 (가야G)WSG워너비 (가야G) - 그때 그 순간 그대로 (그그그)\n",
            " 99위 윤하 (YOUNHA)윤하 (YOUNHA) - 오르트구름\n",
            "100위 김호중, 송가인김호중, 송가인 - 당신을 만나\n"
          ]
        }
      ]
    },
    {
      "cell_type": "markdown",
      "source": [
        "# 5. 네이버 주식"
      ],
      "metadata": {
        "id": "Pei9EBBWpciC"
      }
    },
    {
      "cell_type": "code",
      "source": [
        "# https://finance.naver.com/item/main.naver?code=005930\n",
        "site = 'https://finance.naver.com/item/main.naver?code=005930'\n",
        "request = requests.get(site)\n",
        "print(request)"
      ],
      "metadata": {
        "colab": {
          "base_uri": "https://localhost:8080/"
        },
        "id": "5IIeLuM5udgY",
        "outputId": "5a126e3d-c830-49b2-b893-33889f611c61"
      },
      "execution_count": null,
      "outputs": [
        {
          "output_type": "stream",
          "name": "stdout",
          "text": [
            "<Response [200]>\n"
          ]
        }
      ]
    },
    {
      "cell_type": "code",
      "source": [
        "soup = BeautifulSoup(request.text)"
      ],
      "metadata": {
        "id": "o5GTDvOKvHnB"
      },
      "execution_count": null,
      "outputs": []
    },
    {
      "cell_type": "code",
      "source": [
        "div_today = soup.find('div', {'class':'today'})\n",
        "print(div_today)"
      ],
      "metadata": {
        "colab": {
          "base_uri": "https://localhost:8080/"
        },
        "id": "S2f1FCi2vJ5r",
        "outputId": "948bfd15-8c98-4e41-eadb-c4a1e0905f1c"
      },
      "execution_count": null,
      "outputs": [
        {
          "output_type": "stream",
          "name": "stdout",
          "text": [
            "<div class=\"today\">\n",
            "<p class=\"no_today\">\n",
            "<em class=\"no_down\">\n",
            "<span class=\"blind\">71,000</span>\n",
            "<span class=\"no7\">7</span><span class=\"no1\">1</span><span class=\"shim\">,</span><span class=\"no0\">0</span><span class=\"no0\">0</span><span class=\"no0\">0</span>\n",
            "</em>\n",
            "</p>\n",
            "<p class=\"no_exday\">\n",
            "<span class=\"sptxt sp_txt1\">전일대비</span>\n",
            "<em class=\"no_down\">\n",
            "<span class=\"ico down\">하락</span>\n",
            "<span class=\"blind\">400</span>\n",
            "<span class=\"no4\">4</span><span class=\"no0\">0</span><span class=\"no0\">0</span>\n",
            "</em>\n",
            "<span class=\"bar\">l</span>\n",
            "<em class=\"no_down\">\n",
            "<span class=\"ico minus\">-</span>\n",
            "<span class=\"blind\">0.56</span>\n",
            "<span class=\"no0\">0</span><span class=\"jum\">.</span><span class=\"no5\">5</span><span class=\"no6\">6</span>\n",
            "<span class=\"per\">%</span>\n",
            "</em>\n",
            "</p>\n",
            "</div>\n"
          ]
        }
      ]
    },
    {
      "cell_type": "code",
      "source": [
        "em = div_today.find('em')\n",
        "print(em)"
      ],
      "metadata": {
        "colab": {
          "base_uri": "https://localhost:8080/"
        },
        "id": "MgD9xUlzvQ1m",
        "outputId": "02b791ef-cd80-4d71-9124-eec1e65b5fec"
      },
      "execution_count": null,
      "outputs": [
        {
          "output_type": "stream",
          "name": "stdout",
          "text": [
            "<em class=\"no_down\">\n",
            "<span class=\"blind\">71,000</span>\n",
            "<span class=\"no7\">7</span><span class=\"no1\">1</span><span class=\"shim\">,</span><span class=\"no0\">0</span><span class=\"no0\">0</span><span class=\"no0\">0</span>\n",
            "</em>\n"
          ]
        }
      ]
    },
    {
      "cell_type": "code",
      "source": [
        "price = em.find('span', {'class':'blind'}).text\n",
        "print(price)"
      ],
      "metadata": {
        "colab": {
          "base_uri": "https://localhost:8080/"
        },
        "id": "CXWeOUGAvq6k",
        "outputId": "8d8acdbc-0111-46b9-a794-44fc79006e14"
      },
      "execution_count": null,
      "outputs": [
        {
          "output_type": "stream",
          "name": "stdout",
          "text": [
            "71,000\n"
          ]
        }
      ]
    },
    {
      "cell_type": "code",
      "source": [
        "wrap_company = soup.find('div', {'class':'wrap_company'})\n",
        "# print(wrap_company)\n",
        "name = wrap_company.a.text\n",
        "print(name)\n",
        "div_description = wrap_company.find('div', {'class':'description'})\n",
        "# print(div_description)\n",
        "code = div_description.span.text\n",
        "print(code)"
      ],
      "metadata": {
        "colab": {
          "base_uri": "https://localhost:8080/"
        },
        "id": "u5OAVOifv4Op",
        "outputId": "8036ec9c-f768-46fa-9db6-bb0d8fccefe7"
      },
      "execution_count": null,
      "outputs": [
        {
          "output_type": "stream",
          "name": "stdout",
          "text": [
            "삼성전자\n",
            "005930\n"
          ]
        }
      ]
    },
    {
      "cell_type": "code",
      "source": [
        "table_no_info = soup.find('table', {'class':'no_info'})\n",
        "tds = table_no_info.find_all('td')\n",
        "# print(tds)\n",
        "volume = tds[2].find('span', {'class':'blind'}).text\n",
        "print(volume)"
      ],
      "metadata": {
        "colab": {
          "base_uri": "https://localhost:8080/"
        },
        "id": "zSEu_h0kxoXd",
        "outputId": "a48dc34c-1ca0-4bfc-b94f-8029ad2960ee"
      },
      "execution_count": null,
      "outputs": [
        {
          "output_type": "stream",
          "name": "stdout",
          "text": [
            "9,493,389\n"
          ]
        }
      ]
    },
    {
      "cell_type": "code",
      "source": [
        "dic = {'price':price, 'name':name, 'code':code, 'volume':volume}\n",
        "dic"
      ],
      "metadata": {
        "colab": {
          "base_uri": "https://localhost:8080/"
        },
        "id": "A8jLTwjr1zOJ",
        "outputId": "9d9fccbc-774d-4b4d-e044-3f432e0af187"
      },
      "execution_count": null,
      "outputs": [
        {
          "output_type": "execute_result",
          "data": {
            "text/plain": [
              "{'price': '71,000', 'name': '삼성전자', 'code': '005930', 'volume': '9,493,389'}"
            ]
          },
          "metadata": {},
          "execution_count": 28
        }
      ]
    },
    {
      "cell_type": "code",
      "source": [
        "def naver_finance(code):\n",
        "    site = f'https://finance.naver.com/item/main.naver?code={code}'\n",
        "    request = requests.get(site)\n",
        "    soup = BeautifulSoup(request.text)\n",
        "    div_today = soup.find('div', {'class':'today'})\n",
        "    em = div_today.find('em')\n",
        "    price = em.find('span', {'class':'blind'}).text # 가격\n",
        "\n",
        "    wrap_company = soup.find('div', {'class':'wrap_company'})\n",
        "    name = wrap_company.a.text\n",
        "    div_description = wrap_company.find('div', {'class':'description'})\n",
        "    code = div_description.span.text    # 회사명\n",
        "\n",
        "    table_no_info = soup.find('table', {'class':'no_info'})\n",
        "    tds = table_no_info.find_all('td')\n",
        "    volume = tds[2].find('span', {'class':'blind'}).text    # 코드\n",
        "\n",
        "    dic = {'price':price, 'name':name, 'code':code, 'volume':volume}\n",
        "    return dic"
      ],
      "metadata": {
        "id": "a8g3Q77019LF"
      },
      "execution_count": null,
      "outputs": []
    },
    {
      "cell_type": "code",
      "source": [
        "naver_finance('000660')"
      ],
      "metadata": {
        "colab": {
          "base_uri": "https://localhost:8080/"
        },
        "id": "NpTMZSZhKdKb",
        "outputId": "d23ffb0b-855a-458a-8255-07e587f66dc8"
      },
      "execution_count": null,
      "outputs": [
        {
          "output_type": "execute_result",
          "data": {
            "text/plain": [
              "{'price': '109,500', 'name': 'SK하이닉스', 'code': '000660', 'volume': '3,953,174'}"
            ]
          },
          "metadata": {},
          "execution_count": 34
        }
      ]
    },
    {
      "cell_type": "code",
      "source": [
        "codes = ['005930', '000660', '005950', '035420', '005490']"
      ],
      "metadata": {
        "id": "keZpKNWJK6fJ"
      },
      "execution_count": null,
      "outputs": []
    },
    {
      "cell_type": "code",
      "source": [
        "data = []\n",
        "\n",
        "for code in codes:\n",
        "    dic = naver_finance(code)\n",
        "    data.append(dic)\n",
        "\n",
        "print(data)"
      ],
      "metadata": {
        "colab": {
          "base_uri": "https://localhost:8080/"
        },
        "id": "ryOdX4akLNuV",
        "outputId": "245f1c45-8636-4fd8-fff6-9a4a697e7976"
      },
      "execution_count": null,
      "outputs": [
        {
          "output_type": "stream",
          "name": "stdout",
          "text": [
            "[{'price': '71,000', 'name': '삼성전자', 'code': '005930', 'volume': '9,745,030'}, {'price': '109,400', 'name': 'SK하이닉스', 'code': '000660', 'volume': '3,962,640'}, {'price': '30,900', 'name': '이수화학', 'code': '005950', 'volume': '14,895,208'}, {'price': '203,000', 'name': 'NAVER', 'code': '035420', 'volume': '327,100'}, {'price': '360,500', 'name': 'POSCO홀딩스', 'code': '005490', 'volume': '430,808'}]\n"
          ]
        }
      ]
    },
    {
      "cell_type": "code",
      "source": [
        "import pandas as pd"
      ],
      "metadata": {
        "id": "RMOprZqGLYTY"
      },
      "execution_count": null,
      "outputs": []
    },
    {
      "cell_type": "code",
      "source": [
        "df = pd.DataFrame(data)\n",
        "df"
      ],
      "metadata": {
        "colab": {
          "base_uri": "https://localhost:8080/",
          "height": 206
        },
        "id": "fjPc71-9LaY3",
        "outputId": "4b3ae4ea-baf2-4aac-8b67-a47c015bad80"
      },
      "execution_count": null,
      "outputs": [
        {
          "output_type": "execute_result",
          "data": {
            "text/plain": [
              "     price      name    code      volume\n",
              "0   71,000      삼성전자  005930   9,745,030\n",
              "1  109,400    SK하이닉스  000660   3,962,640\n",
              "2   30,900      이수화학  005950  14,895,208\n",
              "3  203,000     NAVER  035420     327,100\n",
              "4  360,500  POSCO홀딩스  005490     430,808"
            ],
            "text/html": [
              "\n",
              "  <div id=\"df-6932e96b-c0fa-4656-9d69-a83b36aaab47\">\n",
              "    <div class=\"colab-df-container\">\n",
              "      <div>\n",
              "<style scoped>\n",
              "    .dataframe tbody tr th:only-of-type {\n",
              "        vertical-align: middle;\n",
              "    }\n",
              "\n",
              "    .dataframe tbody tr th {\n",
              "        vertical-align: top;\n",
              "    }\n",
              "\n",
              "    .dataframe thead th {\n",
              "        text-align: right;\n",
              "    }\n",
              "</style>\n",
              "<table border=\"1\" class=\"dataframe\">\n",
              "  <thead>\n",
              "    <tr style=\"text-align: right;\">\n",
              "      <th></th>\n",
              "      <th>price</th>\n",
              "      <th>name</th>\n",
              "      <th>code</th>\n",
              "      <th>volume</th>\n",
              "    </tr>\n",
              "  </thead>\n",
              "  <tbody>\n",
              "    <tr>\n",
              "      <th>0</th>\n",
              "      <td>71,000</td>\n",
              "      <td>삼성전자</td>\n",
              "      <td>005930</td>\n",
              "      <td>9,745,030</td>\n",
              "    </tr>\n",
              "    <tr>\n",
              "      <th>1</th>\n",
              "      <td>109,400</td>\n",
              "      <td>SK하이닉스</td>\n",
              "      <td>000660</td>\n",
              "      <td>3,962,640</td>\n",
              "    </tr>\n",
              "    <tr>\n",
              "      <th>2</th>\n",
              "      <td>30,900</td>\n",
              "      <td>이수화학</td>\n",
              "      <td>005950</td>\n",
              "      <td>14,895,208</td>\n",
              "    </tr>\n",
              "    <tr>\n",
              "      <th>3</th>\n",
              "      <td>203,000</td>\n",
              "      <td>NAVER</td>\n",
              "      <td>035420</td>\n",
              "      <td>327,100</td>\n",
              "    </tr>\n",
              "    <tr>\n",
              "      <th>4</th>\n",
              "      <td>360,500</td>\n",
              "      <td>POSCO홀딩스</td>\n",
              "      <td>005490</td>\n",
              "      <td>430,808</td>\n",
              "    </tr>\n",
              "  </tbody>\n",
              "</table>\n",
              "</div>\n",
              "      <button class=\"colab-df-convert\" onclick=\"convertToInteractive('df-6932e96b-c0fa-4656-9d69-a83b36aaab47')\"\n",
              "              title=\"Convert this dataframe to an interactive table.\"\n",
              "              style=\"display:none;\">\n",
              "        \n",
              "  <svg xmlns=\"http://www.w3.org/2000/svg\" height=\"24px\"viewBox=\"0 0 24 24\"\n",
              "       width=\"24px\">\n",
              "    <path d=\"M0 0h24v24H0V0z\" fill=\"none\"/>\n",
              "    <path d=\"M18.56 5.44l.94 2.06.94-2.06 2.06-.94-2.06-.94-.94-2.06-.94 2.06-2.06.94zm-11 1L8.5 8.5l.94-2.06 2.06-.94-2.06-.94L8.5 2.5l-.94 2.06-2.06.94zm10 10l.94 2.06.94-2.06 2.06-.94-2.06-.94-.94-2.06-.94 2.06-2.06.94z\"/><path d=\"M17.41 7.96l-1.37-1.37c-.4-.4-.92-.59-1.43-.59-.52 0-1.04.2-1.43.59L10.3 9.45l-7.72 7.72c-.78.78-.78 2.05 0 2.83L4 21.41c.39.39.9.59 1.41.59.51 0 1.02-.2 1.41-.59l7.78-7.78 2.81-2.81c.8-.78.8-2.07 0-2.86zM5.41 20L4 18.59l7.72-7.72 1.47 1.35L5.41 20z\"/>\n",
              "  </svg>\n",
              "      </button>\n",
              "      \n",
              "  <style>\n",
              "    .colab-df-container {\n",
              "      display:flex;\n",
              "      flex-wrap:wrap;\n",
              "      gap: 12px;\n",
              "    }\n",
              "\n",
              "    .colab-df-convert {\n",
              "      background-color: #E8F0FE;\n",
              "      border: none;\n",
              "      border-radius: 50%;\n",
              "      cursor: pointer;\n",
              "      display: none;\n",
              "      fill: #1967D2;\n",
              "      height: 32px;\n",
              "      padding: 0 0 0 0;\n",
              "      width: 32px;\n",
              "    }\n",
              "\n",
              "    .colab-df-convert:hover {\n",
              "      background-color: #E2EBFA;\n",
              "      box-shadow: 0px 1px 2px rgba(60, 64, 67, 0.3), 0px 1px 3px 1px rgba(60, 64, 67, 0.15);\n",
              "      fill: #174EA6;\n",
              "    }\n",
              "\n",
              "    [theme=dark] .colab-df-convert {\n",
              "      background-color: #3B4455;\n",
              "      fill: #D2E3FC;\n",
              "    }\n",
              "\n",
              "    [theme=dark] .colab-df-convert:hover {\n",
              "      background-color: #434B5C;\n",
              "      box-shadow: 0px 1px 3px 1px rgba(0, 0, 0, 0.15);\n",
              "      filter: drop-shadow(0px 1px 2px rgba(0, 0, 0, 0.3));\n",
              "      fill: #FFFFFF;\n",
              "    }\n",
              "  </style>\n",
              "\n",
              "      <script>\n",
              "        const buttonEl =\n",
              "          document.querySelector('#df-6932e96b-c0fa-4656-9d69-a83b36aaab47 button.colab-df-convert');\n",
              "        buttonEl.style.display =\n",
              "          google.colab.kernel.accessAllowed ? 'block' : 'none';\n",
              "\n",
              "        async function convertToInteractive(key) {\n",
              "          const element = document.querySelector('#df-6932e96b-c0fa-4656-9d69-a83b36aaab47');\n",
              "          const dataTable =\n",
              "            await google.colab.kernel.invokeFunction('convertToInteractive',\n",
              "                                                     [key], {});\n",
              "          if (!dataTable) return;\n",
              "\n",
              "          const docLinkHtml = 'Like what you see? Visit the ' +\n",
              "            '<a target=\"_blank\" href=https://colab.research.google.com/notebooks/data_table.ipynb>data table notebook</a>'\n",
              "            + ' to learn more about interactive tables.';\n",
              "          element.innerHTML = '';\n",
              "          dataTable['output_type'] = 'display_data';\n",
              "          await google.colab.output.renderOutput(dataTable, element);\n",
              "          const docLink = document.createElement('div');\n",
              "          docLink.innerHTML = docLinkHtml;\n",
              "          element.appendChild(docLink);\n",
              "        }\n",
              "      </script>\n",
              "    </div>\n",
              "  </div>\n",
              "  "
            ]
          },
          "metadata": {},
          "execution_count": 38
        }
      ]
    },
    {
      "cell_type": "code",
      "source": [
        "df.to_excel('naver_finace.xlsx')"
      ],
      "metadata": {
        "id": "YVUqUubyLf3E"
      },
      "execution_count": null,
      "outputs": []
    },
    {
      "cell_type": "code",
      "source": [
        "# 지니 차트 200위까지 크롤링\n",
        "# 반복문을 사용하여 크롤링\n",
        "# 수집한 데이터를 데이터프레임으로 저장\n",
        "# 엑셀로 출력\n",
        "# 과제는 github로 내보내기"
      ],
      "metadata": {
        "id": "Vsez4vwqLoOS"
      },
      "execution_count": null,
      "outputs": []
    },
    {
      "cell_type": "code",
      "source": [
        "header = {'User-Agent':'Mozilla/5.0 (Windows NT 10.0; Win64; x64)'}\n",
        "rank = 0\n",
        "chart = []\n",
        "for i in range(1, 5):\n",
        "    site = f'https://www.genie.co.kr/chart/top200?ditc=D&ymd=20230601&hh=14&rtm=Y&pg={i}'\n",
        "    request = requests.get(site, headers = header)\n",
        "    soup = BeautifulSoup(request.text)\n",
        "    titles = soup.findAll('a', {'class':'title ellipsis'})\n",
        "    artists = soup.findAll('a', {'class':'artist ellipsis'})\n",
        "\n",
        "    for t, a in zip(titles, artists):\n",
        "        rank += 1\n",
        "        title = t.text.strip()\n",
        "        artist = a.text.strip()\n",
        "        dic = {'순위': f'{rank}위', '제목':title, '가수':artist}\n",
        "        chart.append(dic)\n",
        "\n",
        "chart"
      ],
      "metadata": {
        "colab": {
          "base_uri": "https://localhost:8080/"
        },
        "id": "wQvPTHI_iYbz",
        "outputId": "f473b3d5-042c-46c6-987d-da1626001024"
      },
      "execution_count": 63,
      "outputs": [
        {
          "output_type": "execute_result",
          "data": {
            "text/plain": [
              "[{'순위': '1위', '제목': '퀸카 (Queencard)', '가수': '(여자)아이들'},\n",
              " {'순위': '2위', '제목': 'I AM', '가수': 'IVE (아이브)'},\n",
              " {'순위': '3위', '제목': 'Spicy', '가수': 'aespa'},\n",
              " {'순위': '4위', '제목': 'Kitsch', '가수': 'IVE (아이브)'},\n",
              " {'순위': '5위',\n",
              "  '제목': 'UNFORGIVEN (Feat. Nile Rodgers)',\n",
              "  '가수': 'LE SSERAFIM (르세라핌)'},\n",
              " {'순위': '6위', '제목': '꽃', '가수': '(여자)아이들'},\n",
              " {'순위': '7위', '제목': 'Hype boy', '가수': 'IVE (아이브)'},\n",
              " {'순위': '8위', '제목': 'Ditto', '가수': 'aespa'},\n",
              " {'순위': '9위', '제목': '손오공', '가수': 'IVE (아이브)'},\n",
              " {'순위': '10위', '제목': '사건의 지평선', '가수': 'LE SSERAFIM (르세라핌)'},\n",
              " {'순위': '11위', '제목': '사랑은 늘 도망가', '가수': '지수 (JISOO)'},\n",
              " {'순위': '12위', '제목': 'Cupid', '가수': 'NewJeans'},\n",
              " {'순위': '13위', '제목': '심 (心)', '가수': 'NewJeans'},\n",
              " {'순위': '14위', '제목': 'Teddy Bear', '가수': '세븐틴 (SEVENTEEN)'},\n",
              " {'순위': '15위', '제목': '우리들의 블루스', '가수': '윤하 (YOUNHA)'},\n",
              " {'순위': '16위', '제목': \"I Don't Think That I Like Her\", '가수': '임영웅'},\n",
              " {'순위': '17위', '제목': 'After LIKE', '가수': 'FIFTY FIFTY'},\n",
              " {'순위': '18위', '제목': 'OMG', '가수': 'DK (디셈버)'},\n",
              " {'순위': '19위', '제목': 'London Boy', '가수': 'STAYC (스테이씨)'},\n",
              " {'순위': '20위', '제목': '이제 나만 믿어요', '가수': '임영웅'},\n",
              " {'순위': '21위', '제목': '다시 만날 수 있을까', '가수': 'Charlie Puth'},\n",
              " {'순위': '22위', '제목': 'Dangerously', '가수': 'IVE (아이브)'},\n",
              " {'순위': '23위', '제목': 'LOVE DIVE', '가수': 'NewJeans'},\n",
              " {'순위': '24위', '제목': 'Polaroid', '가수': '임영웅'},\n",
              " {'순위': '25위', '제목': '파이팅 해야지 (Feat. 이영지)', '가수': '임영웅'},\n",
              " {'순위': '26위', '제목': '무지개', '가수': '임영웅'},\n",
              " {'순위': '27위', '제목': 'Attention', '가수': 'Charlie Puth'},\n",
              " {'순위': '28위', '제목': 'CHRISTIAN', '가수': 'IVE (아이브)'},\n",
              " {'순위': '29위', '제목': '헤어지자 말해요', '가수': '임영웅'},\n",
              " {'순위': '30위', '제목': '아버지', '가수': '부석순 (SEVENTEEN)'},\n",
              " {'순위': '31위', '제목': 'ANTIFRAGILE', '가수': '임영웅'},\n",
              " {'순위': '32위', '제목': '물론', '가수': 'NewJeans'},\n",
              " {'순위': '33위', '제목': '그라데이션', '가수': 'Zior Park'},\n",
              " {'순위': '34위', '제목': '건물 사이에 피어난 장미', '가수': '박재정'},\n",
              " {'순위': '35위', '제목': 'A bientot', '가수': '임영웅'},\n",
              " {'순위': '36위', '제목': '손이 참 곱던 그대', '가수': 'LE SSERAFIM (르세라핌)'},\n",
              " {'순위': '37위', '제목': '사랑해 진짜', '가수': '허각'},\n",
              " {'순위': '38위', '제목': '연애편지', '가수': '10CM'},\n",
              " {'순위': '39위', '제목': '이브, 프시케 그리고 푸른 수염의 아내', '가수': 'H1-KEY (하이키)'},\n",
              " {'순위': '40위', '제목': '인생찬가', '가수': '임영웅'},\n",
              " {'순위': '41위', '제목': '사랑인가 봐', '가수': '임영웅'},\n",
              " {'순위': '42위', '제목': '보금자리', '가수': '임영웅'},\n",
              " {'순위': '43위', '제목': 'NIGHT DANCER', '가수': '임영웅'},\n",
              " {'순위': '44위', '제목': 'TOMBOY', '가수': 'LE SSERAFIM (르세라핌)'},\n",
              " {'순위': '45위', '제목': '사랑하기 싫어', '가수': '임영웅'},\n",
              " {'순위': '46위', '제목': \"That's Hilarious\", '가수': '멜로망스 (MeloMance)'},\n",
              " {'순위': '47위', '제목': 'Nxde', '가수': '임영웅'},\n",
              " {'순위': '48위', '제목': '빛이 나는 너에게', '가수': 'imase'},\n",
              " {'순위': '49위', '제목': '취중고백', '가수': '(여자)아이들'},\n",
              " {'순위': '50위', '제목': 'The Drum', '가수': '지아 (Zia)'},\n",
              " {'순위': '51위', '제목': 'Shut Down', '가수': '(여자)아이들'},\n",
              " {'순위': '52위', '제목': '다정히 내 이름을 부르면', '가수': 'IVE (아이브)'},\n",
              " {'순위': '53위', '제목': 'ELEVEN', '가수': 'aespa'},\n",
              " {'순위': '54위', '제목': 'Allergy', '가수': 'IVE (아이브)'},\n",
              " {'순위': '55위', '제목': 'Heaven (2023)', '가수': 'LE SSERAFIM (르세라핌)'},\n",
              " {'순위': '56위', '제목': 'KNOCK', '가수': 'BLACKPINK'},\n",
              " {'순위': '57위', '제목': '그때 그 순간 그대로 (그그그)', '가수': '경서예지 & 전건호'},\n",
              " {'순위': '58위', '제목': 'Dynamite', '가수': 'IVE (아이브)'},\n",
              " {'순위': '59위', '제목': 'Monologue', '가수': '(여자)아이들'},\n",
              " {'순위': '60위', '제목': '새삥 (Prod. by ZICO) (Feat. 호미들)', '가수': '임재현'},\n",
              " {'순위': '61위', '제목': 'Stay', '가수': '이채연'},\n",
              " {'순위': '62위', '제목': '나의 X에게', '가수': 'WSG워너비 (가야G)'},\n",
              " {'순위': '63위', '제목': '너의 모든 순간', '가수': '방탄소년단'},\n",
              " {'순위': '64위', '제목': '사랑..그게 뭔데', '가수': '테이 (Tei)'},\n",
              " {'순위': '65위', '제목': 'When I Get Old', '가수': '지코 (ZICO)'},\n",
              " {'순위': '66위',\n",
              "  '제목': '나의 바람 (Wind And Wish)',\n",
              "  '가수': 'The Kid LAROI & Justin Bieber'},\n",
              " {'순위': '67위', '제목': '내가 아니라도', '가수': '경서'},\n",
              " {'순위': '68위', '제목': '해요 (2022)', '가수': '성시경'},\n",
              " {'순위': '69위', '제목': '찬란한 하루', '가수': '지아 (Zia)'},\n",
              " {'순위': '70위',\n",
              "  '제목': 'Loving You Girl (Feat. Hkeem)',\n",
              "  '가수': 'Christopher & 청하'},\n",
              " {'순위': '71위', '제목': '오르트구름', '가수': '비투비'},\n",
              " {'순위': '72위',\n",
              "  '제목': 'Dreamers (Music from the FIFA World Cup Qatar 2022 Official Soundtrack) (Feat. FIFA Sound)',\n",
              "  '가수': '주호'},\n",
              " {'순위': '73위', '제목': 'Pink Venom', '가수': '#안녕'},\n",
              " {'순위': '74위', '제목': '주저하는 연인들을 위해', '가수': '멜로망스 (MeloMance)'},\n",
              " {'순위': '75위', '제목': 'FEARLESS', '가수': 'Peder Elias'},\n",
              " {'순위': '76위', '제목': '2002', '가수': '윤하 (YOUNHA)'},\n",
              " {'순위': '77위', '제목': 'Every Second', '가수': '정국 & 방탄소년단'},\n",
              " {'순위': '78위', '제목': '에잇 (Prod. & Feat. SUGA of BTS)', '가수': 'BLACKPINK'},\n",
              " {'순위': '79위', '제목': 'Thirsty', '가수': '잔나비'},\n",
              " {'순위': '80위', '제목': '정이라고 하자 (Feat. 10CM)', '가수': 'LE SSERAFIM (르세라핌)'},\n",
              " {'순위': '81위', '제목': 'Cookie', '가수': 'Anne-Marie'},\n",
              " {'순위': '82위', '제목': '헤픈 우연', '가수': 'Mina Okabe'},\n",
              " {'순위': '83위', '제목': 'Butter', '가수': '아이유 (IU)'},\n",
              " {'순위': '84위', '제목': '신호등', '가수': 'aespa'},\n",
              " {'순위': '85위', '제목': '그중에 그대를 만나', '가수': 'BIG Naughty (서동현)'},\n",
              " {'순위': '86위', '제목': '첫 키스에 내 심장은 120BPM', '가수': 'NewJeans'},\n",
              " {'순위': '87위', '제목': 'VIBE (Feat. Jimin of BTS)', '가수': '헤이즈 (Heize)'},\n",
              " {'순위': '88위', '제목': '봄날', '가수': '방탄소년단'},\n",
              " {'순위': '89위', '제목': '보고싶었어', '가수': '이무진'},\n",
              " {'순위': '90위', '제목': '잠깐 시간 될까', '가수': '김호중'},\n",
              " {'순위': '91위', '제목': 'Celebrity', '가수': '경서'},\n",
              " {'순위': '92위', '제목': 'At My Worst', '가수': '태양'},\n",
              " {'순위': '93위', '제목': 'Off My Face', '가수': '방탄소년단'},\n",
              " {'순위': '94위', '제목': '밤하늘의 별을 (2020)', '가수': 'WSG워너비 (4FIRE)'},\n",
              " {'순위': '95위', '제목': '모든 날, 모든 순간 (Every day, Every Moment)', '가수': '이무진'},\n",
              " {'순위': '96위', '제목': 'Say I Love You', '가수': '아이유 (IU)'},\n",
              " {'순위': '97위', '제목': 'Love Me Like This', '가수': 'Pink Sweat$'},\n",
              " {'순위': '98위', '제목': '희재', '가수': 'Justin Bieber'},\n",
              " {'순위': '99위', '제목': '나의 목소리로', '가수': '경서'},\n",
              " {'순위': '100위', '제목': '봄여름가을겨울 (Still Life)', '가수': '폴킴'},\n",
              " {'순위': '101위', '제목': 'Unholy', '가수': '(여자)아이들'},\n",
              " {'순위': '102위',\n",
              "  '제목': 'NOT SORRY (Feat. pH-1) (Prod. by Slom)',\n",
              "  '가수': 'IVE (아이브)'},\n",
              " {'순위': '103위', '제목': 'Ai Wo Tsutaetaidatoka', '가수': 'aespa'},\n",
              " {'순위': '104위', '제목': '상록수', '가수': 'IVE (아이브)'},\n",
              " {'순위': '105위',\n",
              "  '제목': \"That's Not How This Works (Feat. Dan ＋ Shay)\",\n",
              "  '가수': 'LE SSERAFIM (르세라핌)'},\n",
              " {'순위': '106위',\n",
              "  '제목': '밤이 무서워요 (Lonely Night)',\n",
              "  '가수': 'Sam Smith & Kim Petras'},\n",
              " {'순위': '107위', '제목': 'INVU', '가수': '이영지'},\n",
              " {'순위': '108위', '제목': '한사람만 (2023) (여름날 우리 X 이홍기 (FT아일랜드))', '가수': 'Aimyon'},\n",
              " {'순위': '109위', '제목': 'Candy', '가수': '이우'},\n",
              " {'순위': '110위', '제목': 'Bad Habits', '가수': 'Charlie Puth'},\n",
              " {'순위': '111위', '제목': '흔들리는 꽃들 속에서 네 샴푸향이 느껴진거야', '가수': '주주 시크릿'},\n",
              " {'순위': '112위', '제목': '빙글빙글 (Prod. by R.Tee)', '가수': '태연 (TAEYEON)'},\n",
              " {'순위': '113위', '제목': '딱 10CM만', '가수': '이홍기 (FT아일랜드)'},\n",
              " {'순위': '114위', '제목': 'Blueming', '가수': 'NCT DREAM'},\n",
              " {'순위': '115위', '제목': '안녕이라고 말하지마', '가수': 'Ed Sheeran'},\n",
              " {'순위': '116위', '제목': 'LOVE me', '가수': '장범준'},\n",
              " {'순위': '117위', '제목': '만개 (Prod. 신지후)', '가수': '헤이즈 (Heize)'},\n",
              " {'순위': '118위', '제목': 'Nostalgia', '가수': '10CM & BIG Naughty (서동현)'},\n",
              " {'순위': '119위',\n",
              "  '제목': 'That That (Prod. & Feat. SUGA of BTS)',\n",
              "  '가수': '아이유 (IU)'},\n",
              " {'순위': '120위', '제목': 'Rush Hour (Feat. j-hope of BTS)', '가수': 'V.O.S'},\n",
              " {'순위': '121위', '제목': '인생은 뷰티풀', '가수': \"BE'O (비오)\"},\n",
              " {'순위': '122위', '제목': '떠나보낼 준비해 둘걸 그랬어', '가수': '김호중'},\n",
              " {'순위': '123위', '제목': '고백', '가수': '우디 (Woody)'},\n",
              " {'순위': '124위', '제목': '자격지심 (Feat. ZICO)', '가수': '싸이 (Psy)'},\n",
              " {'순위': '125위', '제목': '슬픈등', '가수': 'Crush'},\n",
              " {'순위': '126위', '제목': '이 새벽에 전화하는 건', '가수': '김호중'},\n",
              " {'순위': '127위', '제목': '10,000 Hours', '가수': '임한별'},\n",
              " {'순위': '128위', '제목': '당신을 만나', '가수': '멜로망스 (MeloMance)'},\n",
              " {'순위': '129위', '제목': 'FRIEND THE END', '가수': \"BE'O (비오)\"},\n",
              " {'순위': '130위', '제목': '사랑하지 않아서 그랬어', '가수': '김호중'},\n",
              " {'순위': '131위', '제목': '내 기쁨은 너가 벤틀리를 끄는 거야', '가수': '황인욱'},\n",
              " {'순위': '132위', '제목': \"I Ain't Worried\", '가수': 'Dan ＋ Shay & Justin Bieber'},\n",
              " {'순위': '133위', '제목': 'Like Crazy', '가수': '김호중 & 송가인'},\n",
              " {'순위': '134위', '제목': 'Weekend', '가수': '볼빨간사춘기'},\n",
              " {'순위': '135위', '제목': '오늘도 빛나는 너에게 (To You My Light) (Feat.이라온)', '가수': '임한별'},\n",
              " {'순위': '136위', '제목': '한강에서 (Feat. BIG Naughty)', '가수': '김승민'},\n",
              " {'순위': '137위', '제목': 'Next Level', '가수': 'OneRepublic'},\n",
              " {'순위': '138위', '제목': 'Bad', '가수': '지민'},\n",
              " {'순위': '139위', '제목': 'Permission to Dance', '가수': '태연 (TAEYEON)'},\n",
              " {'순위': '140위', '제목': 'Love story', '가수': '마크툽 (Maktub)'},\n",
              " {'순위': '141위', '제목': \"Stronger (What Doesn't Kill You)\", '가수': '폴킴'},\n",
              " {'순위': '142위',\n",
              "  '제목': 'Left and Right (Feat. Jung Kook of BTS)',\n",
              "  '가수': 'aespa'},\n",
              " {'순위': '143위', '제목': '발걸음', '가수': 'Christopher'},\n",
              " {'순위': '144위', '제목': '나보다 더 사랑해요', '가수': '방탄소년단'},\n",
              " {'순위': '145위', '제목': '부동의 첫사랑', '가수': '볼빨간사춘기'},\n",
              " {'순위': '146위', '제목': 'Fall In Love Alone', '가수': 'Kelly Clarkson'},\n",
              " {'순위': '147위', '제목': 'Feel My Rhythm', '가수': 'Charlie Puth & 정국 & 방탄소년단'},\n",
              " {'순위': '148위', '제목': '주마등', '가수': 'DK (디셈버)'},\n",
              " {'순위': '149위', '제목': 'strawberry moon', '가수': '김호중'},\n",
              " {'순위': '150위', '제목': 'OHAYO MY NIGHT', '가수': '10CM'},\n",
              " {'순위': '151위', '제목': '어떻게 이별까지 사랑하겠어, 널 사랑하는 거지', '가수': '(여자)아이들'},\n",
              " {'순위': '152위', '제목': '사람 Pt.2 (Feat. 아이유)', '가수': 'IVE (아이브)'},\n",
              " {'순위': '153위', '제목': '내 손을 잡아', '가수': 'aespa'},\n",
              " {'순위': '154위', '제목': 'Made You Look', '가수': 'IVE (아이브)'},\n",
              " {'순위': '155위',\n",
              "  '제목': '찰나가 영원이 될 때 (The Eternal Moment)',\n",
              "  '가수': 'LE SSERAFIM (르세라핌)'},\n",
              " {'순위': '156위', '제목': '노래방에서', '가수': 'AKMU (악뮤)'},\n",
              " {'순위': '157위', '제목': '다시 사랑한다면 (니글니글 버터플라이)', '가수': 'Agust D'},\n",
              " {'순위': '158위',\n",
              "  '제목': 'Angel Pt. 1 (Feat. JVKE & Muni Long) (FAST X Soundtrack)',\n",
              "  '가수': '아이유 (IU)'},\n",
              " {'순위': '159위', '제목': '빛이 나는 사람', '가수': 'Meghan Trainor'},\n",
              " {'순위': '160위', '제목': 'Tiny Riot', '가수': '마크툽 (Maktub)'},\n",
              " {'순위': '161위', '제목': 'All I Wanna Do (K) (Feat. Hoody & Loco)', '가수': '장범준'},\n",
              " {'순위': '162위', '제목': 'F*ck My Life', '가수': '김필'},\n",
              " {'순위': '163위', '제목': '바라만 본다', '가수': '지민'},\n",
              " {'순위': '164위', '제목': '첫눈처럼 너에게 가겠다', '가수': '김호중'},\n",
              " {'순위': '165위', '제목': '뜨거운 여름밤은 가고 남은 건 볼품없지만', '가수': 'Sam Ryder'},\n",
              " {'순위': '166위', '제목': '예뻤어', '가수': '박재범'},\n",
              " {'순위': '167위', '제목': 'Yet To Come', '가수': '세븐틴 (SEVENTEEN)'},\n",
              " {'순위': '168위', '제목': '우주를 줄게', '가수': 'MSG워너비 (M.O.M)'},\n",
              " {'순위': '169위', '제목': '한 페이지가 될 수 있게', '가수': '에일리 (Ailee)'},\n",
              " {'순위': '170위', '제목': '12 : 45 (Stripped)', '가수': '잔나비'},\n",
              " {'순위': '171위', '제목': '우린 그렇게 사랑해서', '가수': 'DAY6 (데이식스)'},\n",
              " {'순위': '172위', '제목': '약속 (約束)', '가수': '방탄소년단'},\n",
              " {'순위': '173위', '제목': '라일락', '가수': '볼빨간사춘기'},\n",
              " {'순위': '174위', '제목': '그리움의 계절', '가수': 'DAY6 (데이식스)'},\n",
              " {'순위': '175위', '제목': '있잖아', '가수': 'etham'},\n",
              " {'순위': '176위', '제목': '아로하', '가수': '강민경 (다비치) & 잔나비 최정훈'},\n",
              " {'순위': '177위', '제목': '그리워하다', '가수': '김호중'},\n",
              " {'순위': '178위', '제목': 'Il Mare Calmo Della Sera', '가수': '아이유 (IU)'},\n",
              " {'순위': '179위', '제목': 'Shape Of You', '가수': '김호중'},\n",
              " {'순위': '180위', '제목': '새벽에 걸려온 너의 전화는', '가수': '폴킴'},\n",
              " {'순위': '181위', '제목': '오래된 노래', '가수': '조정석'},\n",
              " {'순위': '182위', '제목': '이 세상 끝까지', '가수': '비투비'},\n",
              " {'순위': '183위', '제목': '잘가요', '가수': '김호중'},\n",
              " {'순위': '184위', '제목': 'Memories', '가수': 'Ed Sheeran'},\n",
              " {'순위': '185위', '제목': 'Salty & Sweet', '가수': '한동근'},\n",
              " {'순위': '186위', '제목': '풍등', '가수': 'Standing Egg (스탠딩 에그)'},\n",
              " {'순위': '187위', '제목': 'GHOST TOWN', '가수': '먼데이 키즈 (Monday Kiz) & #안녕'},\n",
              " {'순위': '188위', '제목': '팡파레', '가수': '주호'},\n",
              " {'순위': '189위', '제목': 'I (Feat. 버벌진트)', '가수': 'Maroon 5'},\n",
              " {'순위': '190위', '제목': '한여름밤의 꿀', '가수': 'aespa'},\n",
              " {'순위': '191위', '제목': '도깨비불 (Illusion)', '가수': '이찬원'},\n",
              " {'순위': '192위', '제목': '그대를 알고', '가수': 'Benson Boone'},\n",
              " {'순위': '193위', '제목': 'Fine', '가수': '다비치'},\n",
              " {'순위': '194위', '제목': '자니 (Feat. DYNAMICDUO)', '가수': '태연 (TAEYEON)'},\n",
              " {'순위': '195위', '제목': 'Touch My Body', '가수': 'San E (산이) & 레이나'},\n",
              " {'순위': '196위', '제목': '하루 끝', '가수': 'aespa'},\n",
              " {'순위': '197위', '제목': 'SHAKE IT', '가수': '송하예'},\n",
              " {'순위': '198위', '제목': '커피한잔할래요', '가수': '태연 (TAEYEON)'},\n",
              " {'순위': '199위', '제목': '제주도의 푸른 밤', '가수': '프라이머리'},\n",
              " {'순위': '200위', '제목': '사랑했나봐', '가수': '씨스타 (Sistar)'}]"
            ]
          },
          "metadata": {},
          "execution_count": 63
        }
      ]
    },
    {
      "cell_type": "code",
      "source": [
        "df_chart = pd.DataFrame(chart)\n",
        "df_chart"
      ],
      "metadata": {
        "colab": {
          "base_uri": "https://localhost:8080/",
          "height": 424
        },
        "id": "n74uIsGCm8Uf",
        "outputId": "3fa6cdef-1c0b-4b10-c9be-1a715e980a79"
      },
      "execution_count": 64,
      "outputs": [
        {
          "output_type": "execute_result",
          "data": {
            "text/plain": [
              "       순위                               제목                  가수\n",
              "0      1위                   퀸카 (Queencard)             (여자)아이들\n",
              "1      2위                             I AM           IVE (아이브)\n",
              "2      3위                            Spicy               aespa\n",
              "3      4위                           Kitsch           IVE (아이브)\n",
              "4      5위  UNFORGIVEN (Feat. Nile Rodgers)  LE SSERAFIM (르세라핌)\n",
              "..    ...                              ...                 ...\n",
              "195  196위                             하루 끝               aespa\n",
              "196  197위                         SHAKE IT                 송하예\n",
              "197  198위                          커피한잔할래요        태연 (TAEYEON)\n",
              "198  199위                        제주도의 푸른 밤               프라이머리\n",
              "199  200위                            사랑했나봐        씨스타 (Sistar)\n",
              "\n",
              "[200 rows x 3 columns]"
            ],
            "text/html": [
              "\n",
              "  <div id=\"df-c25fd001-6d5e-40cd-93ae-1c583d66036b\">\n",
              "    <div class=\"colab-df-container\">\n",
              "      <div>\n",
              "<style scoped>\n",
              "    .dataframe tbody tr th:only-of-type {\n",
              "        vertical-align: middle;\n",
              "    }\n",
              "\n",
              "    .dataframe tbody tr th {\n",
              "        vertical-align: top;\n",
              "    }\n",
              "\n",
              "    .dataframe thead th {\n",
              "        text-align: right;\n",
              "    }\n",
              "</style>\n",
              "<table border=\"1\" class=\"dataframe\">\n",
              "  <thead>\n",
              "    <tr style=\"text-align: right;\">\n",
              "      <th></th>\n",
              "      <th>순위</th>\n",
              "      <th>제목</th>\n",
              "      <th>가수</th>\n",
              "    </tr>\n",
              "  </thead>\n",
              "  <tbody>\n",
              "    <tr>\n",
              "      <th>0</th>\n",
              "      <td>1위</td>\n",
              "      <td>퀸카 (Queencard)</td>\n",
              "      <td>(여자)아이들</td>\n",
              "    </tr>\n",
              "    <tr>\n",
              "      <th>1</th>\n",
              "      <td>2위</td>\n",
              "      <td>I AM</td>\n",
              "      <td>IVE (아이브)</td>\n",
              "    </tr>\n",
              "    <tr>\n",
              "      <th>2</th>\n",
              "      <td>3위</td>\n",
              "      <td>Spicy</td>\n",
              "      <td>aespa</td>\n",
              "    </tr>\n",
              "    <tr>\n",
              "      <th>3</th>\n",
              "      <td>4위</td>\n",
              "      <td>Kitsch</td>\n",
              "      <td>IVE (아이브)</td>\n",
              "    </tr>\n",
              "    <tr>\n",
              "      <th>4</th>\n",
              "      <td>5위</td>\n",
              "      <td>UNFORGIVEN (Feat. Nile Rodgers)</td>\n",
              "      <td>LE SSERAFIM (르세라핌)</td>\n",
              "    </tr>\n",
              "    <tr>\n",
              "      <th>...</th>\n",
              "      <td>...</td>\n",
              "      <td>...</td>\n",
              "      <td>...</td>\n",
              "    </tr>\n",
              "    <tr>\n",
              "      <th>195</th>\n",
              "      <td>196위</td>\n",
              "      <td>하루 끝</td>\n",
              "      <td>aespa</td>\n",
              "    </tr>\n",
              "    <tr>\n",
              "      <th>196</th>\n",
              "      <td>197위</td>\n",
              "      <td>SHAKE IT</td>\n",
              "      <td>송하예</td>\n",
              "    </tr>\n",
              "    <tr>\n",
              "      <th>197</th>\n",
              "      <td>198위</td>\n",
              "      <td>커피한잔할래요</td>\n",
              "      <td>태연 (TAEYEON)</td>\n",
              "    </tr>\n",
              "    <tr>\n",
              "      <th>198</th>\n",
              "      <td>199위</td>\n",
              "      <td>제주도의 푸른 밤</td>\n",
              "      <td>프라이머리</td>\n",
              "    </tr>\n",
              "    <tr>\n",
              "      <th>199</th>\n",
              "      <td>200위</td>\n",
              "      <td>사랑했나봐</td>\n",
              "      <td>씨스타 (Sistar)</td>\n",
              "    </tr>\n",
              "  </tbody>\n",
              "</table>\n",
              "<p>200 rows × 3 columns</p>\n",
              "</div>\n",
              "      <button class=\"colab-df-convert\" onclick=\"convertToInteractive('df-c25fd001-6d5e-40cd-93ae-1c583d66036b')\"\n",
              "              title=\"Convert this dataframe to an interactive table.\"\n",
              "              style=\"display:none;\">\n",
              "        \n",
              "  <svg xmlns=\"http://www.w3.org/2000/svg\" height=\"24px\"viewBox=\"0 0 24 24\"\n",
              "       width=\"24px\">\n",
              "    <path d=\"M0 0h24v24H0V0z\" fill=\"none\"/>\n",
              "    <path d=\"M18.56 5.44l.94 2.06.94-2.06 2.06-.94-2.06-.94-.94-2.06-.94 2.06-2.06.94zm-11 1L8.5 8.5l.94-2.06 2.06-.94-2.06-.94L8.5 2.5l-.94 2.06-2.06.94zm10 10l.94 2.06.94-2.06 2.06-.94-2.06-.94-.94-2.06-.94 2.06-2.06.94z\"/><path d=\"M17.41 7.96l-1.37-1.37c-.4-.4-.92-.59-1.43-.59-.52 0-1.04.2-1.43.59L10.3 9.45l-7.72 7.72c-.78.78-.78 2.05 0 2.83L4 21.41c.39.39.9.59 1.41.59.51 0 1.02-.2 1.41-.59l7.78-7.78 2.81-2.81c.8-.78.8-2.07 0-2.86zM5.41 20L4 18.59l7.72-7.72 1.47 1.35L5.41 20z\"/>\n",
              "  </svg>\n",
              "      </button>\n",
              "      \n",
              "  <style>\n",
              "    .colab-df-container {\n",
              "      display:flex;\n",
              "      flex-wrap:wrap;\n",
              "      gap: 12px;\n",
              "    }\n",
              "\n",
              "    .colab-df-convert {\n",
              "      background-color: #E8F0FE;\n",
              "      border: none;\n",
              "      border-radius: 50%;\n",
              "      cursor: pointer;\n",
              "      display: none;\n",
              "      fill: #1967D2;\n",
              "      height: 32px;\n",
              "      padding: 0 0 0 0;\n",
              "      width: 32px;\n",
              "    }\n",
              "\n",
              "    .colab-df-convert:hover {\n",
              "      background-color: #E2EBFA;\n",
              "      box-shadow: 0px 1px 2px rgba(60, 64, 67, 0.3), 0px 1px 3px 1px rgba(60, 64, 67, 0.15);\n",
              "      fill: #174EA6;\n",
              "    }\n",
              "\n",
              "    [theme=dark] .colab-df-convert {\n",
              "      background-color: #3B4455;\n",
              "      fill: #D2E3FC;\n",
              "    }\n",
              "\n",
              "    [theme=dark] .colab-df-convert:hover {\n",
              "      background-color: #434B5C;\n",
              "      box-shadow: 0px 1px 3px 1px rgba(0, 0, 0, 0.15);\n",
              "      filter: drop-shadow(0px 1px 2px rgba(0, 0, 0, 0.3));\n",
              "      fill: #FFFFFF;\n",
              "    }\n",
              "  </style>\n",
              "\n",
              "      <script>\n",
              "        const buttonEl =\n",
              "          document.querySelector('#df-c25fd001-6d5e-40cd-93ae-1c583d66036b button.colab-df-convert');\n",
              "        buttonEl.style.display =\n",
              "          google.colab.kernel.accessAllowed ? 'block' : 'none';\n",
              "\n",
              "        async function convertToInteractive(key) {\n",
              "          const element = document.querySelector('#df-c25fd001-6d5e-40cd-93ae-1c583d66036b');\n",
              "          const dataTable =\n",
              "            await google.colab.kernel.invokeFunction('convertToInteractive',\n",
              "                                                     [key], {});\n",
              "          if (!dataTable) return;\n",
              "\n",
              "          const docLinkHtml = 'Like what you see? Visit the ' +\n",
              "            '<a target=\"_blank\" href=https://colab.research.google.com/notebooks/data_table.ipynb>data table notebook</a>'\n",
              "            + ' to learn more about interactive tables.';\n",
              "          element.innerHTML = '';\n",
              "          dataTable['output_type'] = 'display_data';\n",
              "          await google.colab.output.renderOutput(dataTable, element);\n",
              "          const docLink = document.createElement('div');\n",
              "          docLink.innerHTML = docLinkHtml;\n",
              "          element.appendChild(docLink);\n",
              "        }\n",
              "      </script>\n",
              "    </div>\n",
              "  </div>\n",
              "  "
            ]
          },
          "metadata": {},
          "execution_count": 64
        }
      ]
    },
    {
      "cell_type": "code",
      "source": [
        "df_chart.to_excel('genie_chart.xlsx')"
      ],
      "metadata": {
        "id": "okHqQfoVnEAW"
      },
      "execution_count": 65,
      "outputs": []
    }
  ]
}